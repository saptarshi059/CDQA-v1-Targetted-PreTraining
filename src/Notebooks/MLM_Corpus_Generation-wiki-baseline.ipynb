{
 "cells": [
  {
   "cell_type": "code",
   "execution_count": null,
   "id": "20d21f01",
   "metadata": {},
   "outputs": [],
   "source": [
    "import pickle5 as pickle\n",
    "with open('../../data/COVID-QA/top_N_ents_spacy-COVID_QA.pkl', 'rb') as f:\n",
    "    top_N_ents = pickle.load(f)"
   ]
  },
  {
   "cell_type": "code",
   "execution_count": null,
   "id": "3800a153",
   "metadata": {},
   "outputs": [],
   "source": [
    "import wikipedia\n",
    "from tqdm.auto import tqdm\n",
    "\n",
    "search_res = {}\n",
    "\n",
    "for i, ent in tqdm(enumerate(top_N_ents)):\n",
    "    #Skipping those entities which don't return anything\n",
    "    if wikipedia.search(ent) != []:\n",
    "        search_res[ent] = wikipedia.search(str(ent), results=1)[0]"
   ]
  },
  {
   "cell_type": "code",
   "execution_count": null,
   "id": "c28f42fb",
   "metadata": {},
   "outputs": [],
   "source": [
    "import wikipedia\n",
    "from transformers import AutoTokenizer, AutoModel\n",
    "import torch\n",
    "\n",
    "context_dict = {}\n",
    "\n",
    "filtering = False\n",
    "if filtering == True:\n",
    "    filtering_threshold = 0.5\n",
    "    device = torch.device('cuda:0' if torch.cuda.is_available() else 'cpu')\n",
    "    \n",
    "    #We're consider scibert because pubmedbert assigns very high similarity for both related/unrelated terms.\n",
    "    checkpoint = 'allenai/scibert_scivocab_uncased'\n",
    "    \n",
    "    model = AutoModel.from_pretrained(checkpoint)\n",
    "    tokenizer = AutoTokenizer.from_pretrained(checkpoint)\n",
    "    \n",
    "    cos = torch.nn.CosineSimilarity(dim=0)\n",
    "    model.to(device)\n",
    "\n",
    "for ent,res in tqdm(search_res.items()):\n",
    "    if filtering == False:\n",
    "        try:\n",
    "            context_dict[ent] = wikipedia.page(res, auto_suggest=False).content          \n",
    "        except:\n",
    "            continue\n",
    "    else:\n",
    "        encoded_input = tokenizer([ent, res], return_tensors='pt', padding=True)\n",
    "        with torch.no_grad():\n",
    "            output = model(**encoded_input)\n",
    "        \n",
    "        similarity = cos(output.pooler_output[0], output.pooler_output[1])\n",
    "        '''\n",
    "        we're taking less than here since the similarity scores for related terms seem to be lower than \n",
    "        unrelated ones.\n",
    "        '''\n",
    "        if similarity.item() < filtering_thresold:\n",
    "            try:\n",
    "                context_dict[ent] = wikipedia.page(res, auto_suggest=False).content          \n",
    "            except:\n",
    "                continue"
   ]
  },
  {
   "cell_type": "code",
   "execution_count": null,
   "id": "2cb95df8",
   "metadata": {},
   "outputs": [],
   "source": [
    "import pandas as pd\n",
    "pd.DataFrame(context_dict.items(), columns = ['ent', 'text']).to_parquet('wiki_corpus.parquet', index=False)"
   ]
  },
  {
   "cell_type": "code",
   "execution_count": null,
   "id": "ea38e4aa",
   "metadata": {},
   "outputs": [],
   "source": [
    "from pymed import PubMed\n",
    "\n",
    "# Create a PubMed object that GraphQL can use to query\n",
    "# Note that the parameters are not required but kindly requested by PubMed Central\n",
    "# https://www.ncbi.nlm.nih.gov/pmc/tools/developers/\n",
    "pubmed = PubMed(tool=\"MyTool\", email=\"my@email.address\")\n",
    "\n",
    "# Create a GraphQL query in plain text\n",
    "query = ['covid-19', 'hiv-1']\n",
    "\n",
    "# Execute the query against the API\n",
    "results = pubmed.query(query, max_results=500)\n",
    "\n",
    "# Loop over the retrieved articles\n",
    "for article in results:\n",
    "\n",
    "    # Extract and format information from the article\n",
    "    article_id = article.pubmed_id\n",
    "    title = article.title\n",
    "    abstract = article.abstract\n",
    "\n",
    "    # Show information about the article\n",
    "    print(\n",
    "        f'{abstract}\\n'\n",
    "    )"
   ]
  },
  {
   "cell_type": "code",
   "execution_count": 1,
   "id": "2a96c469",
   "metadata": {},
   "outputs": [],
   "source": [
    "from datasets import load_dataset"
   ]
  },
  {
   "cell_type": "code",
   "execution_count": 5,
   "id": "1b90044e",
   "metadata": {},
   "outputs": [
    {
     "name": "stderr",
     "output_type": "stream",
     "text": [
      "Using custom data configuration default-e06ad899f49a11fe\n"
     ]
    },
    {
     "name": "stdout",
     "output_type": "stream",
     "text": [
      "Downloading and preparing dataset json/default to /home/saptarshi/.cache/huggingface/datasets/json/default-e06ad899f49a11fe/0.0.0/e6070c77f18f01a5ad4551a8b7edfba20b8438b7cad4d94e6ad9378022ce4aab...\n"
     ]
    },
    {
     "data": {
      "application/vnd.jupyter.widget-view+json": {
       "model_id": "259ac0891b714bd7825c283f1674a759",
       "version_major": 2,
       "version_minor": 0
      },
      "text/plain": [
       "Downloading data files:   0%|          | 0/1 [00:00<?, ?it/s]"
      ]
     },
     "metadata": {},
     "output_type": "display_data"
    },
    {
     "data": {
      "application/vnd.jupyter.widget-view+json": {
       "model_id": "87190b2f535242948fbf4b898a8ba83f",
       "version_major": 2,
       "version_minor": 0
      },
      "text/plain": [
       "Extracting data files:   0%|          | 0/1 [00:00<?, ?it/s]"
      ]
     },
     "metadata": {},
     "output_type": "display_data"
    },
    {
     "data": {
      "application/vnd.jupyter.widget-view+json": {
       "model_id": "",
       "version_major": 2,
       "version_minor": 0
      },
      "text/plain": [
       "0 tables [00:00, ? tables/s]"
      ]
     },
     "metadata": {},
     "output_type": "display_data"
    },
    {
     "name": "stdout",
     "output_type": "stream",
     "text": [
      "Dataset json downloaded and prepared to /home/saptarshi/.cache/huggingface/datasets/json/default-e06ad899f49a11fe/0.0.0/e6070c77f18f01a5ad4551a8b7edfba20b8438b7cad4d94e6ad9378022ce4aab. Subsequent calls will reuse this data.\n"
     ]
    },
    {
     "data": {
      "application/vnd.jupyter.widget-view+json": {
       "model_id": "e00fd07e394940a98a237f9964f66140",
       "version_major": 2,
       "version_minor": 0
      },
      "text/plain": [
       "  0%|          | 0/1 [00:00<?, ?it/s]"
      ]
     },
     "metadata": {},
     "output_type": "display_data"
    }
   ],
   "source": [
    "s = load_dataset('json', data_files='../../data/policy-qa/train.json')"
   ]
  },
  {
   "cell_type": "code",
   "execution_count": 36,
   "id": "77ce4fc2",
   "metadata": {},
   "outputs": [
    {
     "name": "stdout",
     "output_type": "stream",
     "text": [
      "sidearmsports.com\n",
      "['The site collects your generic personal information for a basic service or feature. Collection happens when you explicitly provide information in an unspecified way. You can opt in for data collection for the collection of your information.', 'The site collects your generic personal information for marketing purposes. Collection happens when you explicitly provide information on the website. You can choose not to use the service or feature for the collection of your information.', 'An unnamed third party does collect on the first party website or app unspecified information about you for an unspecified purpose. The identifiability of the data is not covered by our label scheme.', 'The site collects your cookies or tracking elements for an unspecified purpose. Collection happens in an unspecified way, and your data is aggregated or anonymized.', \"The site collects your unspecified information for an unspecified purpose. Collection happens when you implicitly provide information on the website, and your data's identifiability is not covered by our label scheme. You can choose not to use the service or feature for the collection of your information.\", 'The site collects your generic personal information for an unspecified purpose. Collection happens when you explicitly provide information in an unspecified way.', 'An unnamed third party does collect on the first party website or app your cookies or tracking elements for an unspecified purpose. The data is aggregated or anonymized.', 'The site collects your contact information for an unspecified purpose. Collection happens when you explicitly provide information on the website. You can choose not to use the service or feature for the collection of your information.', 'The site collects your unspecified information for an unspecified purpose. Collection happens in an unspecified way, and your data is aggregated or anonymized.', 'The site collects an information type outside of our label scheme for an unspecified purpose. Collection happens when you implicitly provide information in an unspecified way.', 'The site collects your generic personal information for a basic service or feature. Collection happens when you explicitly provide information in an unspecified way for users with accounts. You can opt in for data collection for the collection of your information.', 'An unnamed third party does collect on the first party website or app unspecified information about you for an unspecified purpose. The data is aggregated or anonymized.', 'The site collects your generic personal information for a basic service or feature. Collection happens when you explicitly provide information on the website. You can choose not to use the service or feature for the collection of your information.']\n"
     ]
    }
   ],
   "source": [
    "for article in s['train']['data'][0]:\n",
    "    print(title)\n",
    "    for paragraph in article[\"paragraphs\"]:\n",
    "        context = paragraph[\"context\"]  # do not strip leading blank spaces GH-2585\n",
    "        print(paragraph['summary'])\n",
    "        break\n",
    "    break"
   ]
  },
  {
   "cell_type": "code",
   "execution_count": 19,
   "id": "2977c73e",
   "metadata": {},
   "outputs": [
    {
     "ename": "IndexError",
     "evalue": "list index out of range",
     "output_type": "error",
     "traceback": [
      "\u001b[0;31m---------------------------------------------------------------------------\u001b[0m",
      "\u001b[0;31mIndexError\u001b[0m                                Traceback (most recent call last)",
      "\u001b[0;32m/tmp/ipykernel_49292/4232813372.py\u001b[0m in \u001b[0;36m<module>\u001b[0;34m\u001b[0m\n\u001b[0;32m----> 1\u001b[0;31m \u001b[0ms\u001b[0m\u001b[0;34m[\u001b[0m\u001b[0;34m'train'\u001b[0m\u001b[0;34m]\u001b[0m\u001b[0;34m[\u001b[0m\u001b[0;34m'data'\u001b[0m\u001b[0;34m]\u001b[0m\u001b[0;34m[\u001b[0m\u001b[0;36m1\u001b[0m\u001b[0;34m]\u001b[0m\u001b[0;34m\u001b[0m\u001b[0;34m\u001b[0m\u001b[0m\n\u001b[0m",
      "\u001b[0;31mIndexError\u001b[0m: list index out of range"
     ]
    }
   ],
   "source": [
    "s['train']['data'][1]"
   ]
  }
 ],
 "metadata": {
  "kernelspec": {
   "display_name": "Python 3 (ipykernel)",
   "language": "python",
   "name": "python3"
  },
  "language_info": {
   "codemirror_mode": {
    "name": "ipython",
    "version": 3
   },
   "file_extension": ".py",
   "mimetype": "text/x-python",
   "name": "python",
   "nbconvert_exporter": "python",
   "pygments_lexer": "ipython3",
   "version": "3.9.7"
  }
 },
 "nbformat": 4,
 "nbformat_minor": 5
}
