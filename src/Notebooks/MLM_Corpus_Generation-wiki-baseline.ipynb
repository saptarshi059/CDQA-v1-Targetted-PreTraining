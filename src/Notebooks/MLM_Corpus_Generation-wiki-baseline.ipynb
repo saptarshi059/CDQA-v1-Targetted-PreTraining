{
 "cells": [
  {
   "cell_type": "code",
   "execution_count": null,
   "id": "20d21f01",
   "metadata": {},
   "outputs": [],
   "source": [
    "import pickle5 as pickle\n",
    "with open('../../data/COVID-QA/top_N_ents_spacy-COVID_QA.pkl', 'rb') as f:\n",
    "    top_N_ents = pickle.load(f)"
   ]
  },
  {
   "cell_type": "code",
   "execution_count": null,
   "id": "3800a153",
   "metadata": {},
   "outputs": [],
   "source": [
    "import wikipedia\n",
    "from tqdm.auto import tqdm\n",
    "\n",
    "search_res = {}\n",
    "\n",
    "for i, ent in tqdm(enumerate(top_N_ents)):\n",
    "    #Skipping those entities which don't return anything\n",
    "    if wikipedia.search(ent) != []:\n",
    "        search_res[ent] = wikipedia.search(str(ent), results=1)[0]"
   ]
  },
  {
   "cell_type": "code",
   "execution_count": null,
   "id": "c28f42fb",
   "metadata": {},
   "outputs": [],
   "source": [
    "import wikipedia\n",
    "from transformers import AutoTokenizer, AutoModel\n",
    "import torch\n",
    "\n",
    "context_dict = {}\n",
    "\n",
    "filtering = False\n",
    "if filtering == True:\n",
    "    filtering_threshold = 0.5\n",
    "    device = torch.device('cuda:0' if torch.cuda.is_available() else 'cpu')\n",
    "    \n",
    "    #We're consider scibert because pubmedbert assigns very high similarity for both related/unrelated terms.\n",
    "    checkpoint = 'allenai/scibert_scivocab_uncased'\n",
    "    \n",
    "    model = AutoModel.from_pretrained(checkpoint)\n",
    "    tokenizer = AutoTokenizer.from_pretrained(checkpoint)\n",
    "    \n",
    "    cos = torch.nn.CosineSimilarity(dim=0)\n",
    "    model.to(device)\n",
    "\n",
    "for ent,res in tqdm(search_res.items()):\n",
    "    if filtering == False:\n",
    "        try:\n",
    "            context_dict[ent] = wikipedia.page(res, auto_suggest=False).content          \n",
    "        except:\n",
    "            continue\n",
    "    else:\n",
    "        encoded_input = tokenizer([ent, res], return_tensors='pt', padding=True)\n",
    "        with torch.no_grad():\n",
    "            output = model(**encoded_input)\n",
    "        \n",
    "        similarity = cos(output.pooler_output[0], output.pooler_output[1])\n",
    "        '''\n",
    "        we're taking less than here since the similarity scores for related terms seem to be lower than \n",
    "        unrelated ones.\n",
    "        '''\n",
    "        if similarity.item() < filtering_thresold:\n",
    "            try:\n",
    "                context_dict[ent] = wikipedia.page(res, auto_suggest=False).content          \n",
    "            except:\n",
    "                continue"
   ]
  },
  {
   "cell_type": "code",
   "execution_count": null,
   "id": "2cb95df8",
   "metadata": {},
   "outputs": [],
   "source": [
    "import pandas as pd\n",
    "pd.DataFrame(context_dict.items(), columns = ['ent', 'text']).to_parquet('wiki_corpus.parquet', index=False)"
   ]
  },
  {
   "cell_type": "code",
   "execution_count": null,
   "id": "ea38e4aa",
   "metadata": {},
   "outputs": [],
   "source": [
    "from pymed import PubMed\n",
    "\n",
    "# Create a PubMed object that GraphQL can use to query\n",
    "# Note that the parameters are not required but kindly requested by PubMed Central\n",
    "# https://www.ncbi.nlm.nih.gov/pmc/tools/developers/\n",
    "pubmed = PubMed(tool=\"MyTool\", email=\"my@email.address\")\n",
    "\n",
    "# Create a GraphQL query in plain text\n",
    "query = ['covid-19', 'hiv-1']\n",
    "\n",
    "# Execute the query against the API\n",
    "results = pubmed.query(query, max_results=500)\n",
    "\n",
    "# Loop over the retrieved articles\n",
    "for article in results:\n",
    "\n",
    "    # Extract and format information from the article\n",
    "    article_id = article.pubmed_id\n",
    "    title = article.title\n",
    "    abstract = article.abstract\n",
    "\n",
    "    # Show information about the article\n",
    "    print(\n",
    "        f'{abstract}\\n'\n",
    "    )"
   ]
  },
  {
   "cell_type": "code",
   "execution_count": null,
   "id": "2a96c469",
   "metadata": {},
   "outputs": [],
   "source": [
    "from datasets import load_dataset"
   ]
  },
  {
   "cell_type": "code",
   "execution_count": null,
   "id": "2aa0a587",
   "metadata": {},
   "outputs": [],
   "source": [
    "from tqdm.auto import tqdm\n",
    "import json\n",
    "with open('../../data/policy-qa/train.json', 'r') as f:\n",
    "    data = json.load(f)"
   ]
  },
  {
   "cell_type": "code",
   "execution_count": null,
   "id": "70092669",
   "metadata": {},
   "outputs": [],
   "source": [
    "#Removing unnecessary columns to cast to SQuAD format.\n",
    "for article in tqdm(data['data']):\n",
    "    title = article.get(\"title\", \"\")\n",
    "    for paragraph in article[\"paragraphs\"]:\n",
    "        paragraph.pop('summary', None)\n",
    "        paragraph.pop('index', None)\n",
    "        for qa in paragraph[\"qas\"]:\n",
    "            qa.pop('type', None)"
   ]
  },
  {
   "cell_type": "code",
   "execution_count": null,
   "id": "07ac99ac",
   "metadata": {},
   "outputs": [],
   "source": [
    "from pprint import pprint\n",
    "for article in data['data']:\n",
    "    title = article.get(\"title\", \"\")\n",
    "    print(article.keys())\n",
    "    for paragraph in article[\"paragraphs\"]:\n",
    "        print(paragraph.keys())\n",
    "        for qa in paragraph[\"qas\"]:\n",
    "            print(qa.keys())\n",
    "            break\n",
    "        break\n",
    "    break"
   ]
  },
  {
   "cell_type": "code",
   "execution_count": null,
   "id": "1b90044e",
   "metadata": {},
   "outputs": [],
   "source": [
    "s = load_dataset('Saptarshi7/PolicyQA')"
   ]
  },
  {
   "cell_type": "code",
   "execution_count": null,
   "id": "77ce4fc2",
   "metadata": {},
   "outputs": [],
   "source": [
    "for article in s['train']['data'][0]:\n",
    "    print(title)\n",
    "    for paragraph in article[\"paragraphs\"]:\n",
    "        context = paragraph[\"context\"]  # do not strip leading blank spaces GH-2585\n",
    "        print(paragraph['summary'])\n",
    "        break\n",
    "    break"
   ]
  },
  {
   "cell_type": "code",
   "execution_count": null,
   "id": "2977c73e",
   "metadata": {},
   "outputs": [],
   "source": [
    "s['train']['data'][1]"
   ]
  },
  {
   "cell_type": "code",
   "execution_count": 41,
   "id": "4df41483",
   "metadata": {
    "scrolled": true
   },
   "outputs": [
    {
     "name": "stderr",
     "output_type": "stream",
     "text": [
      "Found cached dataset covid_qa_cleaned_cs (/home/saptarshi/.cache/huggingface/datasets/Saptarshi7___covid_qa_cleaned_cs/covid_qa_cleaned_CS/1.0.0/74f520624df6ee24fe0a236d66e7f206080b9649fed5d52129ca286f6dd40206)\n"
     ]
    },
    {
     "data": {
      "application/vnd.jupyter.widget-view+json": {
       "model_id": "fc7f9e43a485401a8ac8d326b0f541ea",
       "version_major": 2,
       "version_minor": 0
      },
      "text/plain": [
       "  0%|          | 0/1 [00:00<?, ?it/s]"
      ]
     },
     "metadata": {},
     "output_type": "display_data"
    }
   ],
   "source": [
    "from datasets import load_dataset\n",
    "s = load_dataset('Saptarshi7/covid_qa_cleaned_CS')"
   ]
  },
  {
   "cell_type": "code",
   "execution_count": 40,
   "id": "f09febce",
   "metadata": {},
   "outputs": [
    {
     "data": {
      "text/plain": [
       "98"
      ]
     },
     "execution_count": 40,
     "metadata": {},
     "output_type": "execute_result"
    }
   ],
   "source": [
    "len(set(s['test']['document_id']).intersection(set(s['train']['document_id'])))"
   ]
  },
  {
   "cell_type": "code",
   "execution_count": 155,
   "id": "aed44312",
   "metadata": {},
   "outputs": [
    {
     "data": {
      "text/plain": [
       "343"
      ]
     },
     "execution_count": 155,
     "metadata": {},
     "output_type": "execute_result"
    }
   ],
   "source": [
    "len(test['document_id'])"
   ]
  },
  {
   "cell_type": "code",
   "execution_count": 116,
   "id": "06cc1912",
   "metadata": {},
   "outputs": [
    {
     "data": {
      "text/plain": [
       "2504"
      ]
     },
     "execution_count": 116,
     "metadata": {},
     "output_type": "execute_result"
    }
   ],
   "source": [
    "train = s['train'].select(range(0, 1676))\n",
    "train['document_id'][-1]"
   ]
  },
  {
   "cell_type": "code",
   "execution_count": 165,
   "id": "046a8c3b",
   "metadata": {},
   "outputs": [
    {
     "data": {
      "text/plain": [
       "Dataset({\n",
       "    features: ['document_id', 'context', 'question', 'is_impossible', 'id', 'answers'],\n",
       "    num_rows: 1676\n",
       "})"
      ]
     },
     "execution_count": 165,
     "metadata": {},
     "output_type": "execute_result"
    }
   ],
   "source": [
    "train"
   ]
  },
  {
   "cell_type": "code",
   "execution_count": 117,
   "id": "c9456bd8",
   "metadata": {},
   "outputs": [
    {
     "data": {
      "text/plain": [
       "1713"
      ]
     },
     "execution_count": 117,
     "metadata": {},
     "output_type": "execute_result"
    }
   ],
   "source": [
    "test = s['train'].select(range(1676, len(s['train'])))\n",
    "test['document_id'][-1]"
   ]
  },
  {
   "cell_type": "code",
   "execution_count": 125,
   "id": "809bb4c6",
   "metadata": {},
   "outputs": [
    {
     "data": {
      "text/plain": [
       "set()"
      ]
     },
     "execution_count": 125,
     "metadata": {},
     "output_type": "execute_result"
    }
   ],
   "source": [
    "set(train['document_id']).intersection(set(test['document_id']))"
   ]
  },
  {
   "cell_type": "code",
   "execution_count": 157,
   "id": "52fce54f",
   "metadata": {},
   "outputs": [
    {
     "data": {
      "application/vnd.jupyter.widget-view+json": {
       "model_id": "",
       "version_major": 2,
       "version_minor": 0
      },
      "text/plain": [
       "Saving the dataset (0/1 shards):   0%|          | 0/1676 [00:00<?, ? examples/s]"
      ]
     },
     "metadata": {},
     "output_type": "display_data"
    }
   ],
   "source": [
    "train.save_to_disk('train')"
   ]
  },
  {
   "cell_type": "code",
   "execution_count": 158,
   "id": "070c35e8",
   "metadata": {},
   "outputs": [],
   "source": [
    "from datasets import load_from_disk\n",
    "reloaded_dataset = load_from_disk(\"train\")"
   ]
  },
  {
   "cell_type": "code",
   "execution_count": 161,
   "id": "6667e0c2",
   "metadata": {},
   "outputs": [],
   "source": [
    "from datasets import DatasetDict\n",
    "\n",
    "reloaded_dataset = ({\"train\": reloaded_dataset})\n"
   ]
  },
  {
   "cell_type": "code",
   "execution_count": 164,
   "id": "4e8119bd",
   "metadata": {},
   "outputs": [
    {
     "data": {
      "text/plain": [
       "{'train': Dataset({\n",
       "     features: ['document_id', 'context', 'question', 'is_impossible', 'id', 'answers'],\n",
       "     num_rows: 1676\n",
       " })}"
      ]
     },
     "execution_count": 164,
     "metadata": {},
     "output_type": "execute_result"
    }
   ],
   "source": [
    "reloaded_dataset"
   ]
  },
  {
   "cell_type": "code",
   "execution_count": 167,
   "id": "bed67351",
   "metadata": {},
   "outputs": [],
   "source": [
    "all_questions = reloaded_dataset['train']['question']"
   ]
  },
  {
   "cell_type": "code",
   "execution_count": 175,
   "id": "4db3db5a",
   "metadata": {},
   "outputs": [],
   "source": [
    "import pickle5 as pickle\n",
    "with open('../../data/COVID-QA/ents_spacy.pkl', 'rb') as f:\n",
    "    ents_main = pickle.load(f)[:10]"
   ]
  },
  {
   "cell_type": "code",
   "execution_count": 176,
   "id": "990aa2c9",
   "metadata": {},
   "outputs": [
    {
     "data": {
      "text/plain": [
       "['inhibitors',\n",
       " 'LPS-primed',\n",
       " 'Transparent',\n",
       " 'HRP-labeled goat-anti-human IgG',\n",
       " 'pathogenic mechanisms',\n",
       " 'oro-fecal route',\n",
       " 'gemcitabine lack',\n",
       " 'Insectivorous bats',\n",
       " 'acute respiratory viral infections',\n",
       " 'biological process']"
      ]
     },
     "execution_count": 176,
     "metadata": {},
     "output_type": "execute_result"
    }
   ],
   "source": [
    "ents_main"
   ]
  },
  {
   "cell_type": "code",
   "execution_count": 173,
   "id": "6facb6c0",
   "metadata": {},
   "outputs": [
    {
     "name": "stderr",
     "output_type": "stream",
     "text": [
      "Found cached dataset parquet (/home/saptarshi/.cache/huggingface/datasets/parquet/default-822b55e40f9655d5/0.0.0/2a3b91fbd88a2c90d1dbbb32b460cf621d31bd5b05b934492fdef7d8d6f236ec)\n"
     ]
    },
    {
     "data": {
      "application/vnd.jupyter.widget-view+json": {
       "model_id": "15bd39765e08420d8aa3c1aa48d0eb66",
       "version_major": 2,
       "version_minor": 0
      },
      "text/plain": [
       "  0%|          | 0/1 [00:00<?, ?it/s]"
      ]
     },
     "metadata": {},
     "output_type": "display_data"
    }
   ],
   "source": [
    "train_dataset = load_dataset(\"parquet\", data_files='../../data/COVID-QA/generated_corpus_47k/agg_gens.parquet')"
   ]
  },
  {
   "cell_type": "code",
   "execution_count": 188,
   "id": "2ab16449",
   "metadata": {},
   "outputs": [
    {
     "name": "stderr",
     "output_type": "stream",
     "text": [
      "Loading cached processed dataset at /home/saptarshi/.cache/huggingface/datasets/parquet/default-822b55e40f9655d5/0.0.0/2a3b91fbd88a2c90d1dbbb32b460cf621d31bd5b05b934492fdef7d8d6f236ec/cache-569ac4efedbb8948.arrow\n"
     ]
    },
    {
     "data": {
      "text/plain": [
       "DatasetDict({\n",
       "    train: Dataset({\n",
       "        features: ['entity', 'prompt', 'context', '__index_level_0__'],\n",
       "        num_rows: 10\n",
       "    })\n",
       "})"
      ]
     },
     "execution_count": 188,
     "metadata": {},
     "output_type": "execute_result"
    }
   ],
   "source": [
    "train_dataset.filter(input_columns='entity',\n",
    "                    function= lambda x: x in ents_main)"
   ]
  }
 ],
 "metadata": {
  "kernelspec": {
   "display_name": "Python 3 (ipykernel)",
   "language": "python",
   "name": "python3"
  },
  "language_info": {
   "codemirror_mode": {
    "name": "ipython",
    "version": 3
   },
   "file_extension": ".py",
   "mimetype": "text/x-python",
   "name": "python",
   "nbconvert_exporter": "python",
   "pygments_lexer": "ipython3",
   "version": "3.9.7"
  }
 },
 "nbformat": 4,
 "nbformat_minor": 5
}
