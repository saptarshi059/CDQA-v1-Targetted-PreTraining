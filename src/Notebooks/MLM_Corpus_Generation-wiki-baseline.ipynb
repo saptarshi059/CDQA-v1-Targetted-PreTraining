{
 "cells": [
  {
   "cell_type": "code",
   "execution_count": null,
   "id": "20d21f01",
   "metadata": {},
   "outputs": [],
   "source": [
    "import pickle5 as pickle\n",
    "with open('../../data/COVID-QA/top_N_ents_spacy-COVID_QA.pkl', 'rb') as f:\n",
    "    top_N_ents = pickle.load(f)"
   ]
  },
  {
   "cell_type": "code",
   "execution_count": null,
   "id": "3800a153",
   "metadata": {},
   "outputs": [],
   "source": [
    "import wikipedia\n",
    "from tqdm.auto import tqdm\n",
    "\n",
    "search_res = {}\n",
    "\n",
    "for i, ent in tqdm(enumerate(top_N_ents)):\n",
    "    #Skipping those entities which don't return anything\n",
    "    if wikipedia.search(ent) != []:\n",
    "        search_res[ent] = wikipedia.search(str(ent), results=1)[0]"
   ]
  },
  {
   "cell_type": "code",
   "execution_count": null,
   "id": "c28f42fb",
   "metadata": {},
   "outputs": [],
   "source": [
    "import wikipedia\n",
    "from transformers import AutoTokenizer, AutoModel\n",
    "import torch\n",
    "\n",
    "context_dict = {}\n",
    "\n",
    "filtering = False\n",
    "if filtering == True:\n",
    "    filtering_threshold = 0.5\n",
    "    device = torch.device('cuda:0' if torch.cuda.is_available() else 'cpu')\n",
    "    \n",
    "    #We're consider scibert because pubmedbert assigns very high similarity for both related/unrelated terms.\n",
    "    checkpoint = 'allenai/scibert_scivocab_uncased'\n",
    "    \n",
    "    model = AutoModel.from_pretrained(checkpoint)\n",
    "    tokenizer = AutoTokenizer.from_pretrained(checkpoint)\n",
    "    \n",
    "    cos = torch.nn.CosineSimilarity(dim=0)\n",
    "    model.to(device)\n",
    "\n",
    "for ent,res in tqdm(search_res.items()):\n",
    "    if filtering == False:\n",
    "        try:\n",
    "            context_dict[ent] = wikipedia.page(res, auto_suggest=False).content          \n",
    "        except:\n",
    "            continue\n",
    "    else:\n",
    "        encoded_input = tokenizer([ent, res], return_tensors='pt', padding=True)\n",
    "        with torch.no_grad():\n",
    "            output = model(**encoded_input)\n",
    "        \n",
    "        similarity = cos(output.pooler_output[0], output.pooler_output[1])\n",
    "        '''\n",
    "        we're taking less than here since the similarity scores for related terms seem to be lower than \n",
    "        unrelated ones.\n",
    "        '''\n",
    "        if similarity.item() < filtering_thresold:\n",
    "            try:\n",
    "                context_dict[ent] = wikipedia.page(res, auto_suggest=False).content          \n",
    "            except:\n",
    "                continue"
   ]
  },
  {
   "cell_type": "code",
   "execution_count": null,
   "id": "2cb95df8",
   "metadata": {},
   "outputs": [],
   "source": [
    "import pandas as pd\n",
    "pd.DataFrame(context_dict.items(), columns = ['ent', 'text']).to_parquet('wiki_corpus.parquet', index=False)"
   ]
  },
  {
   "cell_type": "code",
   "execution_count": null,
   "id": "ea38e4aa",
   "metadata": {},
   "outputs": [],
   "source": [
    "from pymed import PubMed\n",
    "\n",
    "# Create a PubMed object that GraphQL can use to query\n",
    "# Note that the parameters are not required but kindly requested by PubMed Central\n",
    "# https://www.ncbi.nlm.nih.gov/pmc/tools/developers/\n",
    "pubmed = PubMed(tool=\"MyTool\", email=\"my@email.address\")\n",
    "\n",
    "# Create a GraphQL query in plain text\n",
    "query = ['covid-19', 'hiv-1']\n",
    "\n",
    "# Execute the query against the API\n",
    "results = pubmed.query(query, max_results=500)\n",
    "\n",
    "# Loop over the retrieved articles\n",
    "for article in results:\n",
    "\n",
    "    # Extract and format information from the article\n",
    "    article_id = article.pubmed_id\n",
    "    title = article.title\n",
    "    abstract = article.abstract\n",
    "\n",
    "    # Show information about the article\n",
    "    print(\n",
    "        f'{abstract}\\n'\n",
    "    )"
   ]
  },
  {
   "cell_type": "code",
   "execution_count": 95,
   "id": "4e6fa5da",
   "metadata": {
    "code_folding": []
   },
   "outputs": [],
   "source": [
    "#Squadify!\n",
    "\n",
    "import json\n",
    "from datasets import load_dataset\n",
    "\n",
    "input_filename = '../../data/RadQA'\\\n",
    "                 '/radqa-a-question-answering-dataset-to-improve-comprehension-of-radiology-reports-1.0.0'\\\n",
    "                 '/dev.json'\n",
    "output_filename = '../../data/RadQA'\\\n",
    "                 '/radqa-a-question-answering-dataset-to-improve-comprehension-of-radiology-reports-1.0.0'\\\n",
    "                 '/dev.jsonl'\n",
    "\n",
    "with open(input_filename, encoding=\"utf-8\") as f:\n",
    "    radqa = json.load(f)\n",
    "\n",
    "with open(output_filename, \"w\", encoding=\"utf-8\") as f:\n",
    "    for example in radqa[\"data\"]:\n",
    "        title = example.get(\"title\", \"\")\n",
    "        for paragraph in example[\"paragraphs\"]:\n",
    "            context = paragraph[\"context\"]  # do not strip leading blank spaces GH-2585\n",
    "            for qa in paragraph[\"qas\"]:\n",
    "                question = qa[\"question\"]\n",
    "                id_ = qa[\"id\"]\n",
    "\n",
    "                answer_starts = [answer[\"answer_start\"] for answer in qa[\"answers\"]]\n",
    "                answers = [answer[\"text\"] for answer in qa[\"answers\"]]              \n",
    "                f.write(\n",
    "                    json.dumps(\n",
    "                        {\n",
    "                    \"title\": title,\n",
    "                    \"context\": context,\n",
    "                    \"question\": question,\n",
    "                    \"id\": id_,\n",
    "                    \"answers\": {\n",
    "                        \"answer_start\": answer_starts,\n",
    "                        \"text\": answers,\n",
    "                               },\n",
    "                        }\n",
    "                               )\n",
    "                       )\n",
    "                f.write(\"\\n\")\n",
    "\n",
    "#ds = load_dataset(\"json\", data_files=output_filename)"
   ]
  },
  {
   "cell_type": "code",
   "execution_count": null,
   "id": "2ace8466",
   "metadata": {},
   "outputs": [],
   "source": [
    "all_contexts = []\n",
    "all_q = []\n",
    "for row in s['train']['paragraphs']:\n",
    "    for d in row:\n",
    "        all_contexts.append(d[\"context\"])\n",
    "        for q in d['qas']:\n",
    "            all_q.append(q[\"question\"])"
   ]
  },
  {
   "cell_type": "code",
   "execution_count": null,
   "id": "80ee25a3",
   "metadata": {},
   "outputs": [],
   "source": [
    "import re\n",
    "c=0\n",
    "for r in all_contexts:\n",
    "    #if re.search('findings',r, re.IGNORECASE) and re.search('impression:', r, re.IGNORECASE):\n",
    "    #if re.search('final report', r, re.IGNORECASE) and re.search('impression:', r, re.IGNORECASE):\n",
    "    if re.search('findings and impression', r, re.IGNORECASE):\n",
    "        print(r)\n",
    "        print('-'*100)\n",
    "        "
   ]
  },
  {
   "cell_type": "code",
   "execution_count": 1,
   "id": "e31f9c2e",
   "metadata": {},
   "outputs": [],
   "source": [
    "import pickle5 as pickle\n",
    "with open('../../data/RadQA/ents_spacy_radqa.pkl', 'rb') as f:\n",
    "    s = pickle.load(f)"
   ]
  },
  {
   "cell_type": "code",
   "execution_count": 188,
   "id": "64a68634",
   "metadata": {},
   "outputs": [],
   "source": [
    "import re\n",
    "c=0\n",
    "filtered=[]\n",
    "for ent in s:\n",
    "    if not re.search(r\"\\[|\\]|\\.|(patient['s]*)|baby|report|conclusion|finding*|impression*|procedure|\\btime\\b\", ent, re.IGNORECASE) \\\n",
    "    and len(ent.strip()) >= 3:\n",
    "        filtered.append(ent.replace('\\n',''))\n",
    "with open('ents_spacy_radqa_filtered.pkl', 'wb') as f:\n",
    "    pickle.dump(filtered, f)"
   ]
  },
  {
   "cell_type": "code",
   "execution_count": 189,
   "id": "a3808e6f",
   "metadata": {},
   "outputs": [
    {
     "data": {
      "text/plain": [
       "10334"
      ]
     },
     "execution_count": 189,
     "metadata": {},
     "output_type": "execute_result"
    }
   ],
   "source": [
    "len(filtered)"
   ]
  },
  {
   "cell_type": "code",
   "execution_count": 66,
   "id": "bfc37778",
   "metadata": {},
   "outputs": [],
   "source": [
    "class QADataset(Dataset):\n",
    "    def __init__(self, dataset_location):\n",
    "        if dataset_location == 'remote':\n",
    "            self.dataset = load_dataset('squad_v2')\n",
    "        else:\n",
    "            self.dataset = DatasetDict({\"validation\": load_dataset('json', data_files=os.path.abspath(\n",
    "                '../../data/RadQA/radqa-a-question-answering'\n",
    "                '-dataset-to-improve-comprehension-of'\n",
    "                '-radiology-reports-1.0.0/dev.jsonl'))['train']})\n",
    "\n",
    "        self.samples = self.dataset['validation']\n",
    "        self.questions = self.samples['question']\n",
    "        self.contexts = self.samples['context']\n",
    "\n",
    "    def __len__(self):\n",
    "        return len(self.samples)\n",
    "\n",
    "    def __getitem__(self, idx):\n",
    "        return {'question': self.questions[idx], 'context': self.contexts[idx]}"
   ]
  },
  {
   "cell_type": "code",
   "execution_count": 71,
   "id": "88c91191",
   "metadata": {},
   "outputs": [
    {
     "name": "stderr",
     "output_type": "stream",
     "text": [
      "Found cached dataset json (/home/saptarshi/.cache/huggingface/datasets/json/default-a680d41adda12e33/0.0.0/fe5dd6ea2639a6df622901539cb550cf8797e5a6b2dd7af1cf934bed8e233e6e)\n"
     ]
    },
    {
     "data": {
      "application/vnd.jupyter.widget-view+json": {
       "model_id": "50850601213446719e6e03b471e30a1e",
       "version_major": 2,
       "version_minor": 0
      },
      "text/plain": [
       "  0%|          | 0/1 [00:00<?, ?it/s]"
      ]
     },
     "metadata": {},
     "output_type": "display_data"
    }
   ],
   "source": [
    "import os\n",
    "ds = QADataset('local')"
   ]
  },
  {
   "cell_type": "code",
   "execution_count": 87,
   "id": "de4025cb",
   "metadata": {},
   "outputs": [],
   "source": [
    "from transformers import default_data_collator\n",
    "def seed_worker(worker_id):\n",
    "    worker_seed = torch.initial_seed() % 2 ** 32\n",
    "    np.random.seed(worker_seed)\n",
    "    random.seed(worker_seed)\n",
    "\n",
    "import torch, random\n",
    "import numpy as np\n",
    "from transformers import set_seed\n",
    "g = torch.Generator()\n",
    "g.manual_seed(42)\n",
    "torch.manual_seed(42)\n",
    "random.seed(42)\n",
    "set_seed(42)\n",
    "\n",
    "\n",
    "data_loader = DataLoader(ds, batch_size=16, shuffle=False,\n",
    "                             worker_init_fn=seed_worker, generator=g)"
   ]
  },
  {
   "cell_type": "code",
   "execution_count": 88,
   "id": "405bab76",
   "metadata": {},
   "outputs": [
    {
     "data": {
      "text/plain": [
       "41"
      ]
     },
     "execution_count": 88,
     "metadata": {},
     "output_type": "execute_result"
    }
   ],
   "source": [
    "len(data_loader)"
   ]
  },
  {
   "cell_type": "code",
   "execution_count": 90,
   "id": "6c8fa38b",
   "metadata": {},
   "outputs": [
    {
     "name": "stderr",
     "output_type": "stream",
     "text": [
      "  0%|                                                    | 0/41 [00:00<?, ?it/s]"
     ]
    },
    {
     "name": "stdout",
     "output_type": "stream",
     "text": [
      "{'question': [\"Can the patient's shortness of breath be explained by any infiltrations in the lungs?\", 'Is infil present?', \"Can the patient's shortness of breath be explained by any infiltrations in the lungs?\", 'Is infil present?', 'Was the staging complete?', 'Did the gastric cancer metastasize to chest?', 'Does the pelvis show any findings of gastric cancer metastasis?', 'Are there any abnormal lymph nodes suggesting spread of gastric cancer?', 'Is there evidence of mets?', 'Is there any abnormal tissue suggesting of gastric cancer in the adbomen?', 'Is there any abnormal tissue suggesting of gastric cancer in the adbomen?', 'Did the gastric cancer metastasize to chest?', 'Does the pelvis show any findings of gastric cancer metastasis?', 'Was the staging complete?', 'Is there evidence of mets?', 'Are there any abnormal lymph nodes suggesting spread of gastric cancer?'], 'context': ['IMPRESSION:  Right mid lung opacity is concerning for early pneumonia.', 'IMPRESSION:  Right mid lung opacity is concerning for early pneumonia.', 'FINAL REPORT\\n INDICATION:  61-year-old with shortness of breath.  Rule out infiltrate.\\n\\n COMPARISON:  Chest radiograph [**2115-3-15**] and CTA of the chest [**2115-3-16**].\\n\\n SINGLE AP UPRIGHT BEDSIDE CHEST RADIOGRAPH:  There is a small right mid-lung\\n opacity, concerning for pneumonia.  The left lung is clear.  There is some\\n retraction of the hila, with hyperlucency of the upper lobes, suggesting\\n underlying emphysema as seen on prior CT.  The cardiomediastinal silhouette is\\n normal. There is no pneumothorax.', 'FINAL REPORT\\n INDICATION:  61-year-old with shortness of breath.  Rule out infiltrate.\\n\\n COMPARISON:  Chest radiograph [**2115-3-15**] and CTA of the chest [**2115-3-16**].\\n\\n SINGLE AP UPRIGHT BEDSIDE CHEST RADIOGRAPH:  There is a small right mid-lung\\n opacity, concerning for pneumonia.  The left lung is clear.  There is some\\n retraction of the hila, with hyperlucency of the upper lobes, suggesting\\n underlying emphysema as seen on prior CT.  The cardiomediastinal silhouette is\\n normal. There is no pneumothorax.', 'IMPRESSION:  1)  Large constricting circumferential mass is present in the\\n antrum of the stomach, causing massive dilatation of the body and fundus of\\n the stomach.  Adenopathy is present in the gastrohepatic ligament.  No\\n definite metastatic lesions are seen in the liver, although there is a tiny\\n low attenuation lesion in the posterior segment of the right hepatic lobe\\n which is too small to characterize.  No other evidence of metastatic disease\\n is seen in the torso.  2)  Markedly enlarged prostate.  3)  Bilateral small\\n anastomotic aneurysms at the junction of the bypass graft with the common\\n femoral arteries.  4)  Small fat-containing left inguinal hernia.', 'IMPRESSION:  1)  Large constricting circumferential mass is present in the\\n antrum of the stomach, causing massive dilatation of the body and fundus of\\n the stomach.  Adenopathy is present in the gastrohepatic ligament.  No\\n definite metastatic lesions are seen in the liver, although there is a tiny\\n low attenuation lesion in the posterior segment of the right hepatic lobe\\n which is too small to characterize.  No other evidence of metastatic disease\\n is seen in the torso.  2)  Markedly enlarged prostate.  3)  Bilateral small\\n anastomotic aneurysms at the junction of the bypass graft with the common\\n femoral arteries.  4)  Small fat-containing left inguinal hernia.', 'IMPRESSION:  1)  Large constricting circumferential mass is present in the\\n antrum of the stomach, causing massive dilatation of the body and fundus of\\n the stomach.  Adenopathy is present in the gastrohepatic ligament.  No\\n definite metastatic lesions are seen in the liver, although there is a tiny\\n low attenuation lesion in the posterior segment of the right hepatic lobe\\n which is too small to characterize.  No other evidence of metastatic disease\\n is seen in the torso.  2)  Markedly enlarged prostate.  3)  Bilateral small\\n anastomotic aneurysms at the junction of the bypass graft with the common\\n femoral arteries.  4)  Small fat-containing left inguinal hernia.', 'IMPRESSION:  1)  Large constricting circumferential mass is present in the\\n antrum of the stomach, causing massive dilatation of the body and fundus of\\n the stomach.  Adenopathy is present in the gastrohepatic ligament.  No\\n definite metastatic lesions are seen in the liver, although there is a tiny\\n low attenuation lesion in the posterior segment of the right hepatic lobe\\n which is too small to characterize.  No other evidence of metastatic disease\\n is seen in the torso.  2)  Markedly enlarged prostate.  3)  Bilateral small\\n anastomotic aneurysms at the junction of the bypass graft with the common\\n femoral arteries.  4)  Small fat-containing left inguinal hernia.', 'IMPRESSION:  1)  Large constricting circumferential mass is present in the\\n antrum of the stomach, causing massive dilatation of the body and fundus of\\n the stomach.  Adenopathy is present in the gastrohepatic ligament.  No\\n definite metastatic lesions are seen in the liver, although there is a tiny\\n low attenuation lesion in the posterior segment of the right hepatic lobe\\n which is too small to characterize.  No other evidence of metastatic disease\\n is seen in the torso.  2)  Markedly enlarged prostate.  3)  Bilateral small\\n anastomotic aneurysms at the junction of the bypass graft with the common\\n femoral arteries.  4)  Small fat-containing left inguinal hernia.', 'IMPRESSION:  1)  Large constricting circumferential mass is present in the\\n antrum of the stomach, causing massive dilatation of the body and fundus of\\n the stomach.  Adenopathy is present in the gastrohepatic ligament.  No\\n definite metastatic lesions are seen in the liver, although there is a tiny\\n low attenuation lesion in the posterior segment of the right hepatic lobe\\n which is too small to characterize.  No other evidence of metastatic disease\\n is seen in the torso.  2)  Markedly enlarged prostate.  3)  Bilateral small\\n anastomotic aneurysms at the junction of the bypass graft with the common\\n femoral arteries.  4)  Small fat-containing left inguinal hernia.', 'FINAL REPORT\\n INDICATION:  Gastric cancer.\\n\\n TECHNIQUE:  Noncontrast helical scanning of the liver was performed.  Helical\\n scanning of the torso was performed after administration of 150 cc of Optiray.\\n Nonionic contrast was used because of history of multiple allergies.\\n\\n CHEST CT W/CONTRAST:  There is no axillary, mediastinal, or hilar adenopathy.\\n There are no pleural or pericardial effusions.  Moderate cardiomegaly is\\n present.  The esophagus is dilated, filled with food.  There is dependent\\n atelectasis in both lungs.  Small pleural blebs are present at the lung bases.\\n There are no focal consolidations to suggest aspiration.  There are no lung\\n nodules or masses.  No destructive lytic or blastic lesions are seen in the\\n osseous structures of the torso.\\n\\n ABDOMEN CT W/WO CONTRAST:  On series 3, image 14, there is a 2 mm low\\n attenuation lesion in the posterior segment of the right hepatic lobe which is\\n too small to characterize.  No other focal liver lesions are seen.  There is\\n no intra or extrahepatic ductal dilatation.  No abnormality is seen in the\\n gallbladder, spleen, pancreas, adrenals, or kidneys.  The kidneys show\\n symmetric nephrograms and excretion.  The visualized ureters have normal\\n diameter.\\n\\n A large constricting circumferential mass is present in the antrum of the\\n stomach, measuring approximately 7 to 10 cm in length and at least 15 mm thick\\n in some portions of the wall.  The body and fundus of the stomach are markedly\\n dilated, filled with food mixed with oral contrast.  There is no extravasation\\n of oral contrast.  Multiple enlarged lymph nodes are present in the\\n gastrohepatic ligament, the largest of which are 1 cm in the short axis.\\n\\n PELVIS CT W/CONTRAST:  There is no free intraperitoneal fluid.  The visualized\\n loops of small and large bowel are normal.  The patient is s/p aortobifemoral\\n graft.  Tiny aneurysms are present at both anastomoses of the grafts with the\\n common femoral arteries.  A left renal artery stent is present.  There is no\\n retroperitoneal, pelvic, or inguinal adenopathy.  A small fat-containing\\n hernia is present in the left inguinal canal.\\n\\n No abnormality is seen in the bladder.  The prostate is markedly enlarged and\\n shows heterogeneous enhancement.', 'FINAL REPORT\\n INDICATION:  Gastric cancer.\\n\\n TECHNIQUE:  Noncontrast helical scanning of the liver was performed.  Helical\\n scanning of the torso was performed after administration of 150 cc of Optiray.\\n Nonionic contrast was used because of history of multiple allergies.\\n\\n CHEST CT W/CONTRAST:  There is no axillary, mediastinal, or hilar adenopathy.\\n There are no pleural or pericardial effusions.  Moderate cardiomegaly is\\n present.  The esophagus is dilated, filled with food.  There is dependent\\n atelectasis in both lungs.  Small pleural blebs are present at the lung bases.\\n There are no focal consolidations to suggest aspiration.  There are no lung\\n nodules or masses.  No destructive lytic or blastic lesions are seen in the\\n osseous structures of the torso.\\n\\n ABDOMEN CT W/WO CONTRAST:  On series 3, image 14, there is a 2 mm low\\n attenuation lesion in the posterior segment of the right hepatic lobe which is\\n too small to characterize.  No other focal liver lesions are seen.  There is\\n no intra or extrahepatic ductal dilatation.  No abnormality is seen in the\\n gallbladder, spleen, pancreas, adrenals, or kidneys.  The kidneys show\\n symmetric nephrograms and excretion.  The visualized ureters have normal\\n diameter.\\n\\n A large constricting circumferential mass is present in the antrum of the\\n stomach, measuring approximately 7 to 10 cm in length and at least 15 mm thick\\n in some portions of the wall.  The body and fundus of the stomach are markedly\\n dilated, filled with food mixed with oral contrast.  There is no extravasation\\n of oral contrast.  Multiple enlarged lymph nodes are present in the\\n gastrohepatic ligament, the largest of which are 1 cm in the short axis.\\n\\n PELVIS CT W/CONTRAST:  There is no free intraperitoneal fluid.  The visualized\\n loops of small and large bowel are normal.  The patient is s/p aortobifemoral\\n graft.  Tiny aneurysms are present at both anastomoses of the grafts with the\\n common femoral arteries.  A left renal artery stent is present.  There is no\\n retroperitoneal, pelvic, or inguinal adenopathy.  A small fat-containing\\n hernia is present in the left inguinal canal.\\n\\n No abnormality is seen in the bladder.  The prostate is markedly enlarged and\\n shows heterogeneous enhancement.', 'FINAL REPORT\\n INDICATION:  Gastric cancer.\\n\\n TECHNIQUE:  Noncontrast helical scanning of the liver was performed.  Helical\\n scanning of the torso was performed after administration of 150 cc of Optiray.\\n Nonionic contrast was used because of history of multiple allergies.\\n\\n CHEST CT W/CONTRAST:  There is no axillary, mediastinal, or hilar adenopathy.\\n There are no pleural or pericardial effusions.  Moderate cardiomegaly is\\n present.  The esophagus is dilated, filled with food.  There is dependent\\n atelectasis in both lungs.  Small pleural blebs are present at the lung bases.\\n There are no focal consolidations to suggest aspiration.  There are no lung\\n nodules or masses.  No destructive lytic or blastic lesions are seen in the\\n osseous structures of the torso.\\n\\n ABDOMEN CT W/WO CONTRAST:  On series 3, image 14, there is a 2 mm low\\n attenuation lesion in the posterior segment of the right hepatic lobe which is\\n too small to characterize.  No other focal liver lesions are seen.  There is\\n no intra or extrahepatic ductal dilatation.  No abnormality is seen in the\\n gallbladder, spleen, pancreas, adrenals, or kidneys.  The kidneys show\\n symmetric nephrograms and excretion.  The visualized ureters have normal\\n diameter.\\n\\n A large constricting circumferential mass is present in the antrum of the\\n stomach, measuring approximately 7 to 10 cm in length and at least 15 mm thick\\n in some portions of the wall.  The body and fundus of the stomach are markedly\\n dilated, filled with food mixed with oral contrast.  There is no extravasation\\n of oral contrast.  Multiple enlarged lymph nodes are present in the\\n gastrohepatic ligament, the largest of which are 1 cm in the short axis.\\n\\n PELVIS CT W/CONTRAST:  There is no free intraperitoneal fluid.  The visualized\\n loops of small and large bowel are normal.  The patient is s/p aortobifemoral\\n graft.  Tiny aneurysms are present at both anastomoses of the grafts with the\\n common femoral arteries.  A left renal artery stent is present.  There is no\\n retroperitoneal, pelvic, or inguinal adenopathy.  A small fat-containing\\n hernia is present in the left inguinal canal.\\n\\n No abnormality is seen in the bladder.  The prostate is markedly enlarged and\\n shows heterogeneous enhancement.', 'FINAL REPORT\\n INDICATION:  Gastric cancer.\\n\\n TECHNIQUE:  Noncontrast helical scanning of the liver was performed.  Helical\\n scanning of the torso was performed after administration of 150 cc of Optiray.\\n Nonionic contrast was used because of history of multiple allergies.\\n\\n CHEST CT W/CONTRAST:  There is no axillary, mediastinal, or hilar adenopathy.\\n There are no pleural or pericardial effusions.  Moderate cardiomegaly is\\n present.  The esophagus is dilated, filled with food.  There is dependent\\n atelectasis in both lungs.  Small pleural blebs are present at the lung bases.\\n There are no focal consolidations to suggest aspiration.  There are no lung\\n nodules or masses.  No destructive lytic or blastic lesions are seen in the\\n osseous structures of the torso.\\n\\n ABDOMEN CT W/WO CONTRAST:  On series 3, image 14, there is a 2 mm low\\n attenuation lesion in the posterior segment of the right hepatic lobe which is\\n too small to characterize.  No other focal liver lesions are seen.  There is\\n no intra or extrahepatic ductal dilatation.  No abnormality is seen in the\\n gallbladder, spleen, pancreas, adrenals, or kidneys.  The kidneys show\\n symmetric nephrograms and excretion.  The visualized ureters have normal\\n diameter.\\n\\n A large constricting circumferential mass is present in the antrum of the\\n stomach, measuring approximately 7 to 10 cm in length and at least 15 mm thick\\n in some portions of the wall.  The body and fundus of the stomach are markedly\\n dilated, filled with food mixed with oral contrast.  There is no extravasation\\n of oral contrast.  Multiple enlarged lymph nodes are present in the\\n gastrohepatic ligament, the largest of which are 1 cm in the short axis.\\n\\n PELVIS CT W/CONTRAST:  There is no free intraperitoneal fluid.  The visualized\\n loops of small and large bowel are normal.  The patient is s/p aortobifemoral\\n graft.  Tiny aneurysms are present at both anastomoses of the grafts with the\\n common femoral arteries.  A left renal artery stent is present.  There is no\\n retroperitoneal, pelvic, or inguinal adenopathy.  A small fat-containing\\n hernia is present in the left inguinal canal.\\n\\n No abnormality is seen in the bladder.  The prostate is markedly enlarged and\\n shows heterogeneous enhancement.', 'FINAL REPORT\\n INDICATION:  Gastric cancer.\\n\\n TECHNIQUE:  Noncontrast helical scanning of the liver was performed.  Helical\\n scanning of the torso was performed after administration of 150 cc of Optiray.\\n Nonionic contrast was used because of history of multiple allergies.\\n\\n CHEST CT W/CONTRAST:  There is no axillary, mediastinal, or hilar adenopathy.\\n There are no pleural or pericardial effusions.  Moderate cardiomegaly is\\n present.  The esophagus is dilated, filled with food.  There is dependent\\n atelectasis in both lungs.  Small pleural blebs are present at the lung bases.\\n There are no focal consolidations to suggest aspiration.  There are no lung\\n nodules or masses.  No destructive lytic or blastic lesions are seen in the\\n osseous structures of the torso.\\n\\n ABDOMEN CT W/WO CONTRAST:  On series 3, image 14, there is a 2 mm low\\n attenuation lesion in the posterior segment of the right hepatic lobe which is\\n too small to characterize.  No other focal liver lesions are seen.  There is\\n no intra or extrahepatic ductal dilatation.  No abnormality is seen in the\\n gallbladder, spleen, pancreas, adrenals, or kidneys.  The kidneys show\\n symmetric nephrograms and excretion.  The visualized ureters have normal\\n diameter.\\n\\n A large constricting circumferential mass is present in the antrum of the\\n stomach, measuring approximately 7 to 10 cm in length and at least 15 mm thick\\n in some portions of the wall.  The body and fundus of the stomach are markedly\\n dilated, filled with food mixed with oral contrast.  There is no extravasation\\n of oral contrast.  Multiple enlarged lymph nodes are present in the\\n gastrohepatic ligament, the largest of which are 1 cm in the short axis.\\n\\n PELVIS CT W/CONTRAST:  There is no free intraperitoneal fluid.  The visualized\\n loops of small and large bowel are normal.  The patient is s/p aortobifemoral\\n graft.  Tiny aneurysms are present at both anastomoses of the grafts with the\\n common femoral arteries.  A left renal artery stent is present.  There is no\\n retroperitoneal, pelvic, or inguinal adenopathy.  A small fat-containing\\n hernia is present in the left inguinal canal.\\n\\n No abnormality is seen in the bladder.  The prostate is markedly enlarged and\\n shows heterogeneous enhancement.', 'FINAL REPORT\\n INDICATION:  Gastric cancer.\\n\\n TECHNIQUE:  Noncontrast helical scanning of the liver was performed.  Helical\\n scanning of the torso was performed after administration of 150 cc of Optiray.\\n Nonionic contrast was used because of history of multiple allergies.\\n\\n CHEST CT W/CONTRAST:  There is no axillary, mediastinal, or hilar adenopathy.\\n There are no pleural or pericardial effusions.  Moderate cardiomegaly is\\n present.  The esophagus is dilated, filled with food.  There is dependent\\n atelectasis in both lungs.  Small pleural blebs are present at the lung bases.\\n There are no focal consolidations to suggest aspiration.  There are no lung\\n nodules or masses.  No destructive lytic or blastic lesions are seen in the\\n osseous structures of the torso.\\n\\n ABDOMEN CT W/WO CONTRAST:  On series 3, image 14, there is a 2 mm low\\n attenuation lesion in the posterior segment of the right hepatic lobe which is\\n too small to characterize.  No other focal liver lesions are seen.  There is\\n no intra or extrahepatic ductal dilatation.  No abnormality is seen in the\\n gallbladder, spleen, pancreas, adrenals, or kidneys.  The kidneys show\\n symmetric nephrograms and excretion.  The visualized ureters have normal\\n diameter.\\n\\n A large constricting circumferential mass is present in the antrum of the\\n stomach, measuring approximately 7 to 10 cm in length and at least 15 mm thick\\n in some portions of the wall.  The body and fundus of the stomach are markedly\\n dilated, filled with food mixed with oral contrast.  There is no extravasation\\n of oral contrast.  Multiple enlarged lymph nodes are present in the\\n gastrohepatic ligament, the largest of which are 1 cm in the short axis.\\n\\n PELVIS CT W/CONTRAST:  There is no free intraperitoneal fluid.  The visualized\\n loops of small and large bowel are normal.  The patient is s/p aortobifemoral\\n graft.  Tiny aneurysms are present at both anastomoses of the grafts with the\\n common femoral arteries.  A left renal artery stent is present.  There is no\\n retroperitoneal, pelvic, or inguinal adenopathy.  A small fat-containing\\n hernia is present in the left inguinal canal.\\n\\n No abnormality is seen in the bladder.  The prostate is markedly enlarged and\\n shows heterogeneous enhancement.']}\n"
     ]
    },
    {
     "name": "stderr",
     "output_type": "stream",
     "text": [
      "\n"
     ]
    }
   ],
   "source": [
    "from tqdm import tqdm\n",
    "for batch in tqdm(data_loader):\n",
    "    print(batch)\n",
    "    break"
   ]
  }
 ],
 "metadata": {
  "kernelspec": {
   "display_name": "Python 3 (ipykernel)",
   "language": "python",
   "name": "python3"
  },
  "language_info": {
   "codemirror_mode": {
    "name": "ipython",
    "version": 3
   },
   "file_extension": ".py",
   "mimetype": "text/x-python",
   "name": "python",
   "nbconvert_exporter": "python",
   "pygments_lexer": "ipython3",
   "version": "3.9.7"
  }
 },
 "nbformat": 4,
 "nbformat_minor": 5
}
