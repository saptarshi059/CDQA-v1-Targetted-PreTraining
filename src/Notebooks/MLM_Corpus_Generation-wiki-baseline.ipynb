{
 "cells": [
  {
   "cell_type": "code",
   "execution_count": null,
   "id": "20d21f01",
   "metadata": {},
   "outputs": [],
   "source": [
    "import pickle5 as pickle\n",
    "with open('../../data/COVID-QA/top_N_ents_spacy-COVID_QA.pkl', 'rb') as f:\n",
    "    top_N_ents = pickle.load(f)"
   ]
  },
  {
   "cell_type": "code",
   "execution_count": null,
   "id": "3800a153",
   "metadata": {},
   "outputs": [],
   "source": [
    "import wikipedia\n",
    "from tqdm.auto import tqdm\n",
    "\n",
    "search_res = {}\n",
    "\n",
    "for i, ent in tqdm(enumerate(top_N_ents)):\n",
    "    #Skipping those entities which don't return anything\n",
    "    if wikipedia.search(ent) != []:\n",
    "        search_res[ent] = wikipedia.search(str(ent), results=1)[0]"
   ]
  },
  {
   "cell_type": "code",
   "execution_count": null,
   "id": "c28f42fb",
   "metadata": {},
   "outputs": [],
   "source": [
    "import wikipedia\n",
    "from transformers import AutoTokenizer, AutoModel\n",
    "import torch\n",
    "\n",
    "context_dict = {}\n",
    "\n",
    "filtering = False\n",
    "if filtering == True:\n",
    "    filtering_threshold = 0.5\n",
    "    device = torch.device('cuda:0' if torch.cuda.is_available() else 'cpu')\n",
    "    \n",
    "    #We're consider scibert because pubmedbert assigns very high similarity for both related/unrelated terms.\n",
    "    checkpoint = 'allenai/scibert_scivocab_uncased'\n",
    "    \n",
    "    model = AutoModel.from_pretrained(checkpoint)\n",
    "    tokenizer = AutoTokenizer.from_pretrained(checkpoint)\n",
    "    \n",
    "    cos = torch.nn.CosineSimilarity(dim=0)\n",
    "    model.to(device)\n",
    "\n",
    "for ent,res in tqdm(search_res.items()):\n",
    "    if filtering == False:\n",
    "        try:\n",
    "            context_dict[ent] = wikipedia.page(res, auto_suggest=False).content          \n",
    "        except:\n",
    "            continue\n",
    "    else:\n",
    "        encoded_input = tokenizer([ent, res], return_tensors='pt', padding=True)\n",
    "        with torch.no_grad():\n",
    "            output = model(**encoded_input)\n",
    "        \n",
    "        similarity = cos(output.pooler_output[0], output.pooler_output[1])\n",
    "        '''\n",
    "        we're taking less than here since the similarity scores for related terms seem to be lower than \n",
    "        unrelated ones.\n",
    "        '''\n",
    "        if similarity.item() < filtering_thresold:\n",
    "            try:\n",
    "                context_dict[ent] = wikipedia.page(res, auto_suggest=False).content          \n",
    "            except:\n",
    "                continue"
   ]
  },
  {
   "cell_type": "code",
   "execution_count": null,
   "id": "2cb95df8",
   "metadata": {},
   "outputs": [],
   "source": [
    "import pandas as pd\n",
    "pd.DataFrame(context_dict.items(), columns = ['ent', 'text']).to_parquet('wiki_corpus.parquet', index=False)"
   ]
  },
  {
   "cell_type": "code",
   "execution_count": null,
   "id": "ea38e4aa",
   "metadata": {},
   "outputs": [],
   "source": [
    "from pymed import PubMed\n",
    "\n",
    "# Create a PubMed object that GraphQL can use to query\n",
    "# Note that the parameters are not required but kindly requested by PubMed Central\n",
    "# https://www.ncbi.nlm.nih.gov/pmc/tools/developers/\n",
    "pubmed = PubMed(tool=\"MyTool\", email=\"my@email.address\")\n",
    "\n",
    "# Create a GraphQL query in plain text\n",
    "query = ['covid-19', 'hiv-1']\n",
    "\n",
    "# Execute the query against the API\n",
    "results = pubmed.query(query, max_results=500)\n",
    "\n",
    "# Loop over the retrieved articles\n",
    "for article in results:\n",
    "\n",
    "    # Extract and format information from the article\n",
    "    article_id = article.pubmed_id\n",
    "    title = article.title\n",
    "    abstract = article.abstract\n",
    "\n",
    "    # Show information about the article\n",
    "    print(\n",
    "        f'{abstract}\\n'\n",
    "    )"
   ]
  },
  {
   "cell_type": "code",
   "execution_count": 95,
   "id": "4e6fa5da",
   "metadata": {
    "code_folding": []
   },
   "outputs": [],
   "source": [
    "#Squadify!\n",
    "\n",
    "import json\n",
    "from datasets import load_dataset\n",
    "\n",
    "input_filename = '../../data/RadQA'\\\n",
    "                 '/radqa-a-question-answering-dataset-to-improve-comprehension-of-radiology-reports-1.0.0'\\\n",
    "                 '/dev.json'\n",
    "output_filename = '../../data/RadQA'\\\n",
    "                 '/radqa-a-question-answering-dataset-to-improve-comprehension-of-radiology-reports-1.0.0'\\\n",
    "                 '/dev.jsonl'\n",
    "\n",
    "with open(input_filename, encoding=\"utf-8\") as f:\n",
    "    radqa = json.load(f)\n",
    "\n",
    "with open(output_filename, \"w\", encoding=\"utf-8\") as f:\n",
    "    for example in radqa[\"data\"]:\n",
    "        title = example.get(\"title\", \"\")\n",
    "        for paragraph in example[\"paragraphs\"]:\n",
    "            context = paragraph[\"context\"]  # do not strip leading blank spaces GH-2585\n",
    "            for qa in paragraph[\"qas\"]:\n",
    "                question = qa[\"question\"]\n",
    "                id_ = qa[\"id\"]\n",
    "\n",
    "                answer_starts = [answer[\"answer_start\"] for answer in qa[\"answers\"]]\n",
    "                answers = [answer[\"text\"] for answer in qa[\"answers\"]]              \n",
    "                f.write(\n",
    "                    json.dumps(\n",
    "                        {\n",
    "                    \"title\": title,\n",
    "                    \"context\": context,\n",
    "                    \"question\": question,\n",
    "                    \"id\": id_,\n",
    "                    \"answers\": {\n",
    "                        \"answer_start\": answer_starts,\n",
    "                        \"text\": answers,\n",
    "                               },\n",
    "                        }\n",
    "                               )\n",
    "                       )\n",
    "                f.write(\"\\n\")\n",
    "\n",
    "#ds = load_dataset(\"json\", data_files=output_filename)"
   ]
  },
  {
   "cell_type": "code",
   "execution_count": null,
   "id": "2ace8466",
   "metadata": {},
   "outputs": [],
   "source": [
    "all_contexts = []\n",
    "all_q = []\n",
    "for row in s['train']['paragraphs']:\n",
    "    for d in row:\n",
    "        all_contexts.append(d[\"context\"])\n",
    "        for q in d['qas']:\n",
    "            all_q.append(q[\"question\"])"
   ]
  },
  {
   "cell_type": "code",
   "execution_count": null,
   "id": "80ee25a3",
   "metadata": {},
   "outputs": [],
   "source": [
    "import re\n",
    "c=0\n",
    "for r in all_contexts:\n",
    "    #if re.search('findings',r, re.IGNORECASE) and re.search('impression:', r, re.IGNORECASE):\n",
    "    #if re.search('final report', r, re.IGNORECASE) and re.search('impression:', r, re.IGNORECASE):\n",
    "    if re.search('findings and impression', r, re.IGNORECASE):\n",
    "        print(r)\n",
    "        print('-'*100)\n",
    "        "
   ]
  },
  {
   "cell_type": "code",
   "execution_count": 1,
   "id": "c2aecf5d",
   "metadata": {},
   "outputs": [],
   "source": [
    "import pickle5 as pickle\n",
    "with open('../../data/RadQA/ents_spacy_radqa.pkl', 'rb') as f:\n",
    "    s = pickle.load(f)"
   ]
  },
  {
   "cell_type": "code",
   "execution_count": 188,
   "id": "1266a715",
   "metadata": {},
   "outputs": [],
   "source": [
    "import re\n",
    "c=0\n",
    "filtered=[]\n",
    "for ent in s:\n",
    "    if not re.search(r\"\\[|\\]|\\.|(patient['s]*)|baby|report|conclusion|finding*|impression*|procedure|\\btime\\b\", ent, re.IGNORECASE) \\\n",
    "    and len(ent.strip()) >= 3:\n",
    "        filtered.append(ent.replace('\\n',''))\n",
    "with open('ents_spacy_radqa_filtered.pkl', 'wb') as f:\n",
    "    pickle.dump(filtered, f)"
   ]
  }
 ],
 "metadata": {
  "kernelspec": {
   "display_name": "Python 3 (ipykernel)",
   "language": "python",
   "name": "python3"
  },
  "language_info": {
   "codemirror_mode": {
    "name": "ipython",
    "version": 3
   },
   "file_extension": ".py",
   "mimetype": "text/x-python",
   "name": "python",
   "nbconvert_exporter": "python",
   "pygments_lexer": "ipython3",
   "version": "3.9.7"
  }
 },
 "nbformat": 4,
 "nbformat_minor": 5
}
