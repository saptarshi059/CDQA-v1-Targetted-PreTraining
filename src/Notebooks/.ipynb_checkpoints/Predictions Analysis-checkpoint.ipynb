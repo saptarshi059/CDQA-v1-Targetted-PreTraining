{
 "cells": [
  {
   "cell_type": "code",
   "execution_count": null,
   "id": "42d85685",
   "metadata": {},
   "outputs": [],
   "source": [
    "import pickle5 as pickle\n",
    "s = pickle.load(open('csarron_bert-base-uncased-squad-v1_covid_qa_cleaned_CS_predictions.pkl', 'rb'))"
   ]
  },
  {
   "cell_type": "code",
   "execution_count": null,
   "id": "771c0f44",
   "metadata": {},
   "outputs": [],
   "source": [
    "what = {}\n",
    "why_count = 0\n",
    "when_count = 0\n",
    "who_count = 0\n",
    "which_count = 0\n",
    "how_count = 0\n",
    "where_count = 0\n",
    "other= 0\n",
    "\n",
    "for row in s.itertuples():\n",
    "    if row.question.startswith('What') == True:\n",
    "        print(row.Index)\n",
    "        break\n",
    "        what[row.question] = [(row.predictions, row.gold_answers[0])]\n",
    "    elif row.question.startswith('Why') == True:\n",
    "        why_count += 1\n",
    "    elif row.question.startswith('When') == True:\n",
    "        when_count += 1\n",
    "    elif row.question.startswith('Who') == True:\n",
    "        who_count += 1\n",
    "    elif row.question.startswith('Which') == True:\n",
    "        which_count += 1\n",
    "    elif row.question.startswith('How') == True:\n",
    "        how_count += 1\n",
    "    elif row.question.startswith('Where') == True:\n",
    "        where_count += 1\n",
    "    else:\n",
    "        other += 1"
   ]
  },
  {
   "cell_type": "code",
   "execution_count": null,
   "id": "edc8aebf",
   "metadata": {},
   "outputs": [],
   "source": [
    "what_count, why_count, when_count, who_count, which_count, how_count, where_count, other"
   ]
  },
  {
   "cell_type": "code",
   "execution_count": null,
   "id": "08245595",
   "metadata": {},
   "outputs": [],
   "source": [
    "x = 0\n",
    "for i in (what_count, why_count, when_count, who_count, which_count, how_count, where_count, other):\n",
    "    x+=i\n",
    "x"
   ]
  }
 ],
 "metadata": {
  "kernelspec": {
   "display_name": "Python 3 (ipykernel)",
   "language": "python",
   "name": "python3"
  },
  "language_info": {
   "codemirror_mode": {
    "name": "ipython",
    "version": 3
   },
   "file_extension": ".py",
   "mimetype": "text/x-python",
   "name": "python",
   "nbconvert_exporter": "python",
   "pygments_lexer": "ipython3",
   "version": "3.9.7"
  }
 },
 "nbformat": 4,
 "nbformat_minor": 5
}
