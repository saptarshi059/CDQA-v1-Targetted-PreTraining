{
 "cells": [
  {
   "cell_type": "code",
   "execution_count": 18,
   "id": "dff72e58",
   "metadata": {},
   "outputs": [],
   "source": [
    "import pandas as pd\n",
    "import pickle5 as pickle\n",
    "\n",
    "selected_stanza_ents = pd.read_csv('../../data/our-wikipedia-corpus/Tokens_From_Question_side/mini_corpus-10T5CpT.csv')\n",
    "stanza_ents_main = pd.read_pickle(open('../../data/stanza_ents-from_context.pkl','rb'))\n",
    "\n",
    "from transformers import AutoTokenizer\n",
    "tokenizer = AutoTokenizer.from_pretrained('distilbert-base-uncased')\n",
    "model_vocab = list(tokenizer.vocab.keys())"
   ]
  },
  {
   "cell_type": "code",
   "execution_count": null,
   "id": "1af10b4d",
   "metadata": {},
   "outputs": [],
   "source": [
    "from tqdm.auto import tqdm\n",
    "\n",
    "#Removing those entities that are also in the model vocab since we don't want 2 of the same token embedding.\n",
    "ent_in_model_vocab = []\n",
    "for ent in tqdm(stanza_ents_main):\n",
    "    if ent in model_vocab:\n",
    "        ent_in_model_vocab.append(ent)\n",
    "\n",
    "for ent in ent_in_model_vocab:\n",
    "    stanza_ents_main.remove(ent)\n",
    "\n",
    "#Removing all occurrences of the selected entities. This is where we want fresh new entities & contexts.\n",
    "for ent in list(set(selected_stanza_ents.ent.to_list())):\n",
    "    if ent in stanza_ents_main:\n",
    "        stanza_ents_main = list(filter((ent).__ne__, stanza_ents_main))"
   ]
  },
  {
   "cell_type": "code",
   "execution_count": null,
   "id": "eddda626",
   "metadata": {},
   "outputs": [],
   "source": [
    "from collections import Counter\n",
    "s = Counter(stanza_ents_main)\n",
    "sorted_ent_counts = dict(sorted(s.items(), key=lambda item: item[1], reverse=True))"
   ]
  },
  {
   "cell_type": "code",
   "execution_count": null,
   "id": "912f5ff6",
   "metadata": {},
   "outputs": [],
   "source": [
    "keys_to_remove = []\n",
    "for key in sorted_ent_counts.keys():\n",
    "    if len(key) == 1:\n",
    "        keys_to_remove.append(key)\n",
    "        \n",
    "for key in keys_to_remove:\n",
    "    sorted_ent_counts.pop(key)"
   ]
  },
  {
   "cell_type": "code",
   "execution_count": null,
   "id": "1f07cbc3",
   "metadata": {},
   "outputs": [],
   "source": [
    "import wikipedia\n",
    "from collections import defaultdict\n",
    "\n",
    "no_of_ents_to_select = 100\n",
    "selected_ents_text_dict = defaultdict(list)\n",
    "\n",
    "for ent in tqdm(sorted_ent_counts.keys()):\n",
    "    if len(selected_ents_text_dict.keys()) == no_of_ents_to_select:\n",
    "        break\n",
    "\n",
    "    try:\n",
    "        search_result = wikipedia.search(str(ent), results=1)[0]\n",
    "    except:\n",
    "        continue\n",
    "\n",
    "    try:\n",
    "        wiki_query = wikipedia.page(search_result, auto_suggest=False)\n",
    "        selected_ents_text_dict[ent].append(wiki_query.summary)\n",
    "        selected_ents_text_dict[ent].append(wiki_query.content)\n",
    "    except:\n",
    "        continue\n",
    "        \n",
    "    if len(selected_ents_text_dict.keys()) % 100 == 0:\n",
    "        print(f'No. of entities selected so far: {len(selected_ents_text_dict.keys())}')\n",
    "\n",
    "#print(f'Entities that were selected: {selected_ents_text_dict.keys()}') "
   ]
  },
  {
   "cell_type": "code",
   "execution_count": null,
   "id": "f5e5f702",
   "metadata": {},
   "outputs": [],
   "source": [
    "sample_id = []\n",
    "title = []\n",
    "context = []\n",
    "question = []\n",
    "answers = []\n",
    "\n",
    "for idx, (ent, page_data) in enumerate(selected_ents_text_dict.items()):\n",
    "    sample_id.append(str(idx))\n",
    "    title.append(ent)\n",
    "    context.append(page_data[1])\n",
    "    question.append(f'What is {ent}?')\n",
    "    answers.append({'text': [page_data[0]], 'answer_start': [page_data[1].find(page_data[0])]})\n",
    "    \n",
    "#Saving the dataframe as parquet since it was messing up formats.\n",
    "pd.DataFrame(zip(sample_id, title, context, question, answers), \n",
    "             columns = ['id', 'title', 'context', 'question'\n",
    "                       ,'answers']).to_parquet('mini-corpus-for-extended-QA')"
   ]
  },
  {
   "cell_type": "code",
   "execution_count": 1,
   "id": "b8cad29b",
   "metadata": {},
   "outputs": [
    {
     "name": "stderr",
     "output_type": "stream",
     "text": [
      "Using custom data configuration default-d097b25e34eef54d\n",
      "Found cached dataset parquet (/home/saptarshi/.cache/huggingface/datasets/parquet/default-d097b25e34eef54d/0.0.0/2a3b91fbd88a2c90d1dbbb32b460cf621d31bd5b05b934492fdef7d8d6f236ec)\n"
     ]
    },
    {
     "data": {
      "application/vnd.jupyter.widget-view+json": {
       "model_id": "ec6231483b4a40949c8d31673f97168b",
       "version_major": 2,
       "version_minor": 0
      },
      "text/plain": [
       "  0%|          | 0/1 [00:00<?, ?it/s]"
      ]
     },
     "metadata": {},
     "output_type": "display_data"
    }
   ],
   "source": [
    "from datasets import load_dataset\n",
    "import os\n",
    "\n",
    "s = load_dataset('parquet', data_files=os.path.abspath('../../data/our-wikipedia-corpus/mini-corpus-for-extended-QA'))"
   ]
  }
 ],
 "metadata": {
  "kernelspec": {
   "display_name": "Python 3 (ipykernel)",
   "language": "python",
   "name": "python3"
  },
  "language_info": {
   "codemirror_mode": {
    "name": "ipython",
    "version": 3
   },
   "file_extension": ".py",
   "mimetype": "text/x-python",
   "name": "python",
   "nbconvert_exporter": "python",
   "pygments_lexer": "ipython3",
   "version": "3.9.7"
  }
 },
 "nbformat": 4,
 "nbformat_minor": 5
}
