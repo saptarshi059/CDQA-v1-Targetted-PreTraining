{
 "cells": [
  {
   "cell_type": "code",
   "execution_count": null,
   "id": "20d21f01",
   "metadata": {},
   "outputs": [],
   "source": [
    "import pickle5 as pickle\n",
    "with open('../../data/COVID-QA/top_N_ents_spacy-COVID_QA.pkl', 'rb') as f:\n",
    "    top_N_ents = pickle.load(f)"
   ]
  },
  {
   "cell_type": "code",
   "execution_count": null,
   "id": "3800a153",
   "metadata": {},
   "outputs": [],
   "source": [
    "import wikipedia\n",
    "from tqdm.auto import tqdm\n",
    "\n",
    "search_res = {}\n",
    "\n",
    "for i, ent in tqdm(enumerate(top_N_ents)):\n",
    "    #Skipping those entities which don't return anything\n",
    "    if wikipedia.search(ent) != []:\n",
    "        search_res[ent] = wikipedia.search(str(ent), results=1)[0]"
   ]
  },
  {
   "cell_type": "code",
   "execution_count": null,
   "id": "c28f42fb",
   "metadata": {},
   "outputs": [],
   "source": [
    "import wikipedia\n",
    "from transformers import AutoTokenizer, AutoModel\n",
    "import torch\n",
    "\n",
    "context_dict = {}\n",
    "\n",
    "filtering = False\n",
    "if filtering == True:\n",
    "    filtering_threshold = 0.5\n",
    "    device = torch.device('cuda:0' if torch.cuda.is_available() else 'cpu')\n",
    "    \n",
    "    #We're consider scibert because pubmedbert assigns very high similarity for both related/unrelated terms.\n",
    "    checkpoint = 'allenai/scibert_scivocab_uncased'\n",
    "    \n",
    "    model = AutoModel.from_pretrained(checkpoint)\n",
    "    tokenizer = AutoTokenizer.from_pretrained(checkpoint)\n",
    "    \n",
    "    cos = torch.nn.CosineSimilarity(dim=0)\n",
    "    model.to(device)\n",
    "\n",
    "for ent,res in tqdm(search_res.items()):\n",
    "    if filtering == False:\n",
    "        try:\n",
    "            context_dict[ent] = wikipedia.page(res, auto_suggest=False).content          \n",
    "        except:\n",
    "            continue\n",
    "    else:\n",
    "        encoded_input = tokenizer([ent, res], return_tensors='pt', padding=True)\n",
    "        with torch.no_grad():\n",
    "            output = model(**encoded_input)\n",
    "        \n",
    "        similarity = cos(output.pooler_output[0], output.pooler_output[1])\n",
    "        '''\n",
    "        we're taking less than here since the similarity scores for related terms seem to be lower than \n",
    "        unrelated ones.\n",
    "        '''\n",
    "        if similarity.item() < filtering_thresold:\n",
    "            try:\n",
    "                context_dict[ent] = wikipedia.page(res, auto_suggest=False).content          \n",
    "            except:\n",
    "                continue"
   ]
  },
  {
   "cell_type": "code",
   "execution_count": null,
   "id": "2cb95df8",
   "metadata": {},
   "outputs": [],
   "source": [
    "import pandas as pd\n",
    "pd.DataFrame(context_dict.items(), columns = ['ent', 'text']).to_parquet('wiki_corpus.parquet', index=False)"
   ]
  },
  {
   "cell_type": "code",
   "execution_count": null,
   "id": "ea38e4aa",
   "metadata": {},
   "outputs": [],
   "source": [
    "from pymed import PubMed\n",
    "\n",
    "# Create a PubMed object that GraphQL can use to query\n",
    "# Note that the parameters are not required but kindly requested by PubMed Central\n",
    "# https://www.ncbi.nlm.nih.gov/pmc/tools/developers/\n",
    "pubmed = PubMed(tool=\"MyTool\", email=\"my@email.address\")\n",
    "\n",
    "# Create a GraphQL query in plain text\n",
    "query = ['covid-19', 'hiv-1']\n",
    "\n",
    "# Execute the query against the API\n",
    "results = pubmed.query(query, max_results=500)\n",
    "\n",
    "# Loop over the retrieved articles\n",
    "for article in results:\n",
    "\n",
    "    # Extract and format information from the article\n",
    "    article_id = article.pubmed_id\n",
    "    title = article.title\n",
    "    abstract = article.abstract\n",
    "\n",
    "    # Show information about the article\n",
    "    print(\n",
    "        f'{abstract}\\n'\n",
    "    )"
   ]
  },
  {
   "cell_type": "code",
   "execution_count": 33,
   "id": "fc123c58",
   "metadata": {},
   "outputs": [
    {
     "name": "stderr",
     "output_type": "stream",
     "text": [
      "Found cached dataset json (/home/saptarshi/.cache/huggingface/datasets/json/default-abc7806a378e397d/0.0.0/fe5dd6ea2639a6df622901539cb550cf8797e5a6b2dd7af1cf934bed8e233e6e)\n"
     ]
    },
    {
     "data": {
      "application/vnd.jupyter.widget-view+json": {
       "model_id": "d59980a21126451bbe446ae9a65cfe6f",
       "version_major": 2,
       "version_minor": 0
      },
      "text/plain": [
       "  0%|          | 0/1 [00:00<?, ?it/s]"
      ]
     },
     "metadata": {},
     "output_type": "display_data"
    }
   ],
   "source": [
    "from datasets import load_dataset\n",
    "s = load_dataset('json', data_files='../../data/RadQA'\\\n",
    "                 '/radqa-a-question-answering-dataset-to-improve-comprehension-of-radiology-reports-1.0.0'\\\n",
    "                 '/train.json', field='data')"
   ]
  },
  {
   "cell_type": "code",
   "execution_count": 34,
   "id": "2ace8466",
   "metadata": {},
   "outputs": [],
   "source": [
    "all_contexts = []\n",
    "all_q = []\n",
    "for row in s['train']['paragraphs']:\n",
    "    for d in row:\n",
    "        all_contexts.append(d[\"context\"])\n",
    "        for q in d['qas']:\n",
    "            all_q.append(q[\"question\"])"
   ]
  },
  {
   "cell_type": "code",
   "execution_count": 37,
   "id": "5952dae3",
   "metadata": {},
   "outputs": [
    {
     "data": {
      "text/plain": [
       "1606"
      ]
     },
     "execution_count": 37,
     "metadata": {},
     "output_type": "execute_result"
    }
   ],
   "source": [
    "count=0\n",
    "for row in s['train']['paragraphs']:\n",
    "    count+= len(row)\n",
    "count\n",
    "    "
   ]
  },
  {
   "cell_type": "code",
   "execution_count": null,
   "id": "953ae46e",
   "metadata": {},
   "outputs": [],
   "source": []
  },
  {
   "cell_type": "code",
   "execution_count": 35,
   "id": "e49c231e",
   "metadata": {
    "scrolled": false
   },
   "outputs": [
    {
     "name": "stdout",
     "output_type": "stream",
     "text": [
      "176\n"
     ]
    }
   ],
   "source": [
    "a = 0\n",
    "for row in s['train']['paragraphs']:\n",
    "    for c in row:\n",
    "        if c['context'] == 'IMPRESSION':\n",
    "            a+=1\n",
    "print(a)"
   ]
  }
 ],
 "metadata": {
  "kernelspec": {
   "display_name": "Python 3 (ipykernel)",
   "language": "python",
   "name": "python3"
  },
  "language_info": {
   "codemirror_mode": {
    "name": "ipython",
    "version": 3
   },
   "file_extension": ".py",
   "mimetype": "text/x-python",
   "name": "python",
   "nbconvert_exporter": "python",
   "pygments_lexer": "ipython3",
   "version": "3.9.7"
  }
 },
 "nbformat": 4,
 "nbformat_minor": 5
}
