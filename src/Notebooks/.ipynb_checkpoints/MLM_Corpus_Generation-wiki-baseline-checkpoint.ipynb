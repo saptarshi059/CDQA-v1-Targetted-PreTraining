{
 "cells": [
  {
   "cell_type": "code",
   "execution_count": null,
   "id": "20d21f01",
   "metadata": {},
   "outputs": [],
   "source": [
    "import pickle5 as pickle\n",
    "with open('../../data/COVID-QA/top_N_ents_spacy-COVID_QA.pkl', 'rb') as f:\n",
    "    top_N_ents = pickle.load(f)"
   ]
  },
  {
   "cell_type": "code",
   "execution_count": null,
   "id": "3800a153",
   "metadata": {},
   "outputs": [],
   "source": [
    "import wikipedia\n",
    "from tqdm.auto import tqdm\n",
    "\n",
    "search_res = {}\n",
    "\n",
    "for i, ent in tqdm(enumerate(top_N_ents)):\n",
    "    #Skipping those entities which don't return anything\n",
    "    if wikipedia.search(ent) != []:\n",
    "        search_res[ent] = wikipedia.search(str(ent), results=1)[0]"
   ]
  },
  {
   "cell_type": "code",
   "execution_count": null,
   "id": "c28f42fb",
   "metadata": {},
   "outputs": [],
   "source": [
    "import wikipedia\n",
    "from transformers import AutoTokenizer, AutoModel\n",
    "import torch\n",
    "\n",
    "context_dict = {}\n",
    "\n",
    "filtering = False\n",
    "if filtering == True:\n",
    "    filtering_threshold = 0.5\n",
    "    device = torch.device('cuda:0' if torch.cuda.is_available() else 'cpu')\n",
    "    \n",
    "    #We're consider scibert because pubmedbert assigns very high similarity for both related/unrelated terms.\n",
    "    checkpoint = 'allenai/scibert_scivocab_uncased'\n",
    "    \n",
    "    model = AutoModel.from_pretrained(checkpoint)\n",
    "    tokenizer = AutoTokenizer.from_pretrained(checkpoint)\n",
    "    \n",
    "    cos = torch.nn.CosineSimilarity(dim=0)\n",
    "    model.to(device)\n",
    "\n",
    "for ent,res in tqdm(search_res.items()):\n",
    "    if filtering == False:\n",
    "        try:\n",
    "            context_dict[ent] = wikipedia.page(res, auto_suggest=False).content          \n",
    "        except:\n",
    "            continue\n",
    "    else:\n",
    "        encoded_input = tokenizer([ent, res], return_tensors='pt', padding=True)\n",
    "        with torch.no_grad():\n",
    "            output = model(**encoded_input)\n",
    "        \n",
    "        similarity = cos(output.pooler_output[0], output.pooler_output[1])\n",
    "        '''\n",
    "        we're taking less than here since the similarity scores for related terms seem to be lower than \n",
    "        unrelated ones.\n",
    "        '''\n",
    "        if similarity.item() < filtering_thresold:\n",
    "            try:\n",
    "                context_dict[ent] = wikipedia.page(res, auto_suggest=False).content          \n",
    "            except:\n",
    "                continue"
   ]
  },
  {
   "cell_type": "code",
   "execution_count": null,
   "id": "2cb95df8",
   "metadata": {},
   "outputs": [],
   "source": [
    "import pandas as pd\n",
    "pd.DataFrame(context_dict.items(), columns = ['ent', 'text']).to_parquet('wiki_corpus.parquet', index=False)"
   ]
  },
  {
   "cell_type": "code",
   "execution_count": null,
   "id": "ea38e4aa",
   "metadata": {},
   "outputs": [],
   "source": [
    "from pymed import PubMed\n",
    "\n",
    "# Create a PubMed object that GraphQL can use to query\n",
    "# Note that the parameters are not required but kindly requested by PubMed Central\n",
    "# https://www.ncbi.nlm.nih.gov/pmc/tools/developers/\n",
    "pubmed = PubMed(tool=\"MyTool\", email=\"my@email.address\")\n",
    "\n",
    "# Create a GraphQL query in plain text\n",
    "query = ['covid-19', 'hiv-1']\n",
    "\n",
    "# Execute the query against the API\n",
    "results = pubmed.query(query, max_results=500)\n",
    "\n",
    "# Loop over the retrieved articles\n",
    "for article in results:\n",
    "\n",
    "    # Extract and format information from the article\n",
    "    article_id = article.pubmed_id\n",
    "    title = article.title\n",
    "    abstract = article.abstract\n",
    "\n",
    "    # Show information about the article\n",
    "    print(\n",
    "        f'{abstract}\\n'\n",
    "    )"
   ]
  },
  {
   "cell_type": "code",
   "execution_count": null,
   "id": "2a96c469",
   "metadata": {},
   "outputs": [],
   "source": [
    "from datasets import load_dataset"
   ]
  },
  {
   "cell_type": "code",
   "execution_count": null,
   "id": "2aa0a587",
   "metadata": {},
   "outputs": [],
   "source": [
    "from tqdm.auto import tqdm\n",
    "import json\n",
    "with open('../../data/policy-qa/train.json', 'r') as f:\n",
    "    data = json.load(f)"
   ]
  },
  {
   "cell_type": "code",
   "execution_count": null,
   "id": "70092669",
   "metadata": {},
   "outputs": [],
   "source": [
    "#Removing unnecessary columns to cast to SQuAD format.\n",
    "for article in tqdm(data['data']):\n",
    "    title = article.get(\"title\", \"\")\n",
    "    for paragraph in article[\"paragraphs\"]:\n",
    "        paragraph.pop('summary', None)\n",
    "        paragraph.pop('index', None)\n",
    "        for qa in paragraph[\"qas\"]:\n",
    "            qa.pop('type', None)"
   ]
  },
  {
   "cell_type": "code",
   "execution_count": null,
   "id": "07ac99ac",
   "metadata": {},
   "outputs": [],
   "source": [
    "from pprint import pprint\n",
    "for article in data['data']:\n",
    "    title = article.get(\"title\", \"\")\n",
    "    print(article.keys())\n",
    "    for paragraph in article[\"paragraphs\"]:\n",
    "        print(paragraph.keys())\n",
    "        for qa in paragraph[\"qas\"]:\n",
    "            print(qa.keys())\n",
    "            break\n",
    "        break\n",
    "    break"
   ]
  },
  {
   "cell_type": "code",
   "execution_count": null,
   "id": "1b90044e",
   "metadata": {},
   "outputs": [],
   "source": [
    "s = load_dataset('Saptarshi7/PolicyQA')"
   ]
  },
  {
   "cell_type": "code",
   "execution_count": null,
   "id": "77ce4fc2",
   "metadata": {},
   "outputs": [],
   "source": [
    "for article in s['train']['data'][0]:\n",
    "    print(title)\n",
    "    for paragraph in article[\"paragraphs\"]:\n",
    "        context = paragraph[\"context\"]  # do not strip leading blank spaces GH-2585\n",
    "        print(paragraph['summary'])\n",
    "        break\n",
    "    break"
   ]
  },
  {
   "cell_type": "code",
   "execution_count": null,
   "id": "2977c73e",
   "metadata": {},
   "outputs": [],
   "source": [
    "s['train']['data'][1]"
   ]
  },
  {
   "cell_type": "code",
   "execution_count": 1,
   "id": "19a7d8e3",
   "metadata": {},
   "outputs": [
    {
     "name": "stderr",
     "output_type": "stream",
     "text": [
      "Found cached dataset covid_qa_cleaned_cs (/home/saptarshi/.cache/huggingface/datasets/Saptarshi7___covid_qa_cleaned_cs/covid_qa_cleaned_CS/1.0.0/74f520624df6ee24fe0a236d66e7f206080b9649fed5d52129ca286f6dd40206)\n"
     ]
    },
    {
     "data": {
      "application/vnd.jupyter.widget-view+json": {
       "model_id": "c1369334384341f9b32afc0fe46d45ef",
       "version_major": 2,
       "version_minor": 0
      },
      "text/plain": [
       "  0%|          | 0/1 [00:00<?, ?it/s]"
      ]
     },
     "metadata": {},
     "output_type": "display_data"
    }
   ],
   "source": [
    "from datasets import load_dataset\n",
    "s = load_dataset('Saptarshi7/covid_qa_cleaned_CS')"
   ]
  },
  {
   "cell_type": "code",
   "execution_count": null,
   "id": "425d049e",
   "metadata": {},
   "outputs": [],
   "source": []
  },
  {
   "cell_type": "code",
   "execution_count": 2,
   "id": "6f62e22a",
   "metadata": {},
   "outputs": [
    {
     "ename": "AttributeError",
     "evalue": "'DatasetDict' object has no attribute 'train_test_split'",
     "output_type": "error",
     "traceback": [
      "\u001b[0;31m---------------------------------------------------------------------------\u001b[0m",
      "\u001b[0;31mAttributeError\u001b[0m                            Traceback (most recent call last)",
      "\u001b[0;32m/tmp/ipykernel_4981/1973913771.py\u001b[0m in \u001b[0;36m<module>\u001b[0;34m\u001b[0m\n\u001b[0;32m----> 1\u001b[0;31m \u001b[0ms\u001b[0m \u001b[0;34m=\u001b[0m \u001b[0ms\u001b[0m\u001b[0;34m.\u001b[0m\u001b[0mtrain_test_split\u001b[0m\u001b[0;34m(\u001b[0m\u001b[0mtest_size\u001b[0m\u001b[0;34m=\u001b[0m\u001b[0;36m0.2\u001b[0m\u001b[0;34m,\u001b[0m \u001b[0mstratify_by_column\u001b[0m\u001b[0;34m=\u001b[0m\u001b[0;34m\"label\"\u001b[0m\u001b[0;34m)\u001b[0m\u001b[0;34m\u001b[0m\u001b[0;34m\u001b[0m\u001b[0m\n\u001b[0m",
      "\u001b[0;31mAttributeError\u001b[0m: 'DatasetDict' object has no attribute 'train_test_split'"
     ]
    }
   ],
   "source": [
    "s = s.train_test_split(test_size=0.2, stratify_by_column=\"label\")"
   ]
  }
 ],
 "metadata": {
  "kernelspec": {
   "display_name": "Python 3 (ipykernel)",
   "language": "python",
   "name": "python3"
  },
  "language_info": {
   "codemirror_mode": {
    "name": "ipython",
    "version": 3
   },
   "file_extension": ".py",
   "mimetype": "text/x-python",
   "name": "python",
   "nbconvert_exporter": "python",
   "pygments_lexer": "ipython3",
   "version": "3.9.7"
  }
 },
 "nbformat": 4,
 "nbformat_minor": 5
}
