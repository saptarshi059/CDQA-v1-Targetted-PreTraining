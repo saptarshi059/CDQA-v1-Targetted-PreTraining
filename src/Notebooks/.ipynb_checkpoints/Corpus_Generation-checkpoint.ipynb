{
 "cells": [
  {
   "cell_type": "code",
   "execution_count": null,
   "id": "20d21f01",
   "metadata": {},
   "outputs": [],
   "source": [
    "import pickle5 as pickle\n",
    "stanza_ents = pickle.load(open('../../data/stanza_ents-from_questions.pkl', 'rb'))\n",
    "\n",
    "from transformers import AutoTokenizer\n",
    "tokenizer = AutoTokenizer.from_pretrained('distilbert-base-uncased')\n",
    "model_vocab = list(tokenizer.vocab.keys())"
   ]
  },
  {
   "cell_type": "code",
   "execution_count": null,
   "id": "6c532088",
   "metadata": {},
   "outputs": [],
   "source": [
    "from tqdm.auto import tqdm\n",
    "ent_in_model_vocab = []\n",
    "for ent in tqdm(stanza_ents):\n",
    "    if ent in model_vocab:\n",
    "        ent_in_model_vocab.append(ent)\n",
    "\n",
    "for ent in ent_in_model_vocab:\n",
    "    stanza_ents.remove(ent)\n",
    "\n",
    "from collections import Counter\n",
    "s = Counter(stanza_ents)\n",
    "sorted_ent_counts = dict(sorted(s.items(), key=lambda item: item[1], reverse=True))"
   ]
  },
  {
   "cell_type": "code",
   "execution_count": null,
   "id": "c28f42fb",
   "metadata": {},
   "outputs": [],
   "source": [
    "import wikipedia\n",
    "from collections import defaultdict\n",
    "\n",
    "'''\n",
    "selected_ents = ['MERS-CoV', 'SARS', 'coronavirus', 'MERS',\n",
    "                'airway', 'COVID-19', 'human adenovirus type 55', 'CHIKV', 'HIV-1', 'carrageenan']\n",
    "'''\n",
    "no_of_ents_to_select = 10\n",
    "no_of_results_per_entity = 1\n",
    "\n",
    "selected_ents_text_dict = defaultdict(list)\n",
    "\n",
    "for ent in tqdm(sorted_ent_counts.keys()):\n",
    "    if len(selected_ents_text_dict) == no_of_ents_to_select:\n",
    "        break\n",
    "    \n",
    "    search_results = wikipedia.search(str(ent), results=no_of_results_per_entity)\n",
    "    \n",
    "    for res in search_results:\n",
    "        try:\n",
    "            selected_ents_text_dict[ent].append(wikipedia.page(res, auto_suggest=False).content)          \n",
    "        except:\n",
    "            continue\n",
    "    \n",
    "    if len(selected_ents_text_dict[ent]) != no_of_results_per_entity:\n",
    "        selected_ents_text_dict.pop(ent)"
   ]
  },
  {
   "cell_type": "code",
   "execution_count": null,
   "id": "58d60113",
   "metadata": {},
   "outputs": [],
   "source": [
    "wikipedia.search('carrageenan', results=3)"
   ]
  },
  {
   "cell_type": "code",
   "execution_count": null,
   "id": "0e2ede38",
   "metadata": {},
   "outputs": [],
   "source": [
    "selected_ents_text_dict.keys()"
   ]
  },
  {
   "cell_type": "code",
   "execution_count": null,
   "id": "2cb95df8",
   "metadata": {},
   "outputs": [],
   "source": [
    "import pandas as pd\n",
    "pd.DataFrame(zip(selected_ents, texts), columns = ['ent', 'text']).to_csv('mini_corpus.csv', index=False)"
   ]
  }
 ],
 "metadata": {
  "kernelspec": {
   "display_name": "Python 3 (ipykernel)",
   "language": "python",
   "name": "python3"
  },
  "language_info": {
   "codemirror_mode": {
    "name": "ipython",
    "version": 3
   },
   "file_extension": ".py",
   "mimetype": "text/x-python",
   "name": "python",
   "nbconvert_exporter": "python",
   "pygments_lexer": "ipython3",
   "version": "3.9.7"
  }
 },
 "nbformat": 4,
 "nbformat_minor": 5
}
