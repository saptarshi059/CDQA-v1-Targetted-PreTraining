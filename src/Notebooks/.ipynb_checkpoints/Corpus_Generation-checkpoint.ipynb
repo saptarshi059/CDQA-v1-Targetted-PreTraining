{
 "cells": [
  {
   "cell_type": "code",
   "execution_count": 1,
   "id": "20d21f01",
   "metadata": {},
   "outputs": [],
   "source": [
    "import pickle5 as pickle\n",
    "stanza_ents = pickle.load(open('../../data/stanza_ents.pkl', 'rb'))\n",
    "\n",
    "from transformers import AutoTokenizer\n",
    "tokenizer = AutoTokenizer.from_pretrained('distilbert-base-uncased')\n",
    "model_vocab = list(tokenizer.vocab.keys())"
   ]
  },
  {
   "cell_type": "code",
   "execution_count": 2,
   "id": "6c532088",
   "metadata": {},
   "outputs": [
    {
     "data": {
      "application/vnd.jupyter.widget-view+json": {
       "model_id": "77c1eb52b49d4bb6b39c80dc734771d6",
       "version_major": 2,
       "version_minor": 0
      },
      "text/plain": [
       "  0%|          | 0/2880 [00:00<?, ?it/s]"
      ]
     },
     "metadata": {},
     "output_type": "display_data"
    }
   ],
   "source": [
    "from tqdm.auto import tqdm\n",
    "ent_in_model_vocab = []\n",
    "for ent in tqdm(stanza_ents):\n",
    "    if ent in model_vocab:\n",
    "        ent_in_model_vocab.append(ent)\n",
    "\n",
    "for ent in ent_in_model_vocab:\n",
    "    stanza_ents.remove(ent)\n",
    "\n",
    "from collections import Counter\n",
    "s = Counter(stanza_ents)\n",
    "sorted_ent_counts = dict(sorted(s.items(), key=lambda item: item[1], reverse=True))"
   ]
  },
  {
   "cell_type": "code",
   "execution_count": 6,
   "id": "c28f42fb",
   "metadata": {},
   "outputs": [
    {
     "data": {
      "application/vnd.jupyter.widget-view+json": {
       "model_id": "af7cc5c5038e44449e522ea8a0afbba0",
       "version_major": 2,
       "version_minor": 0
      },
      "text/plain": [
       "  0%|          | 0/1124 [00:00<?, ?it/s]"
      ]
     },
     "metadata": {},
     "output_type": "display_data"
    },
    {
     "name": "stderr",
     "output_type": "stream",
     "text": [
      "/home/saptarshi/anaconda3/lib/python3.9/site-packages/wikipedia/wikipedia.py:389: GuessedAtParserWarning: No parser was explicitly specified, so I'm using the best available HTML parser for this system (\"lxml\"). This usually isn't a problem, but if you run this code on another system, or in a different virtual environment, it may use a different parser and behave differently.\n",
      "\n",
      "The code that caused this warning is on line 389 of the file /home/saptarshi/anaconda3/lib/python3.9/site-packages/wikipedia/wikipedia.py. To get rid of this warning, pass the additional argument 'features=\"lxml\"' to the BeautifulSoup constructor.\n",
      "\n",
      "  lis = BeautifulSoup(html).find_all('li')\n"
     ]
    }
   ],
   "source": [
    "import wikipedia\n",
    "from collections import defaultdict\n",
    "\n",
    "'''\n",
    "selected_ents = ['MERS-CoV', 'SARS', 'coronavirus', 'MERS',\n",
    "                'airway', 'COVID-19', 'human adenovirus type 55', 'CHIKV', 'HIV-1', 'carrageenan']\n",
    "'''\n",
    "no_of_ents_to_select = 10\n",
    "no_of_results_per_entity = 1\n",
    "\n",
    "selected_ents_text_dict = defaultdict(list)\n",
    "\n",
    "for ent in tqdm(sorted_ent_counts.keys()):\n",
    "    if len(selected_ents_text_dict) == no_of_ents_to_select * no_of_results_per_entity:\n",
    "        break\n",
    "    \n",
    "    search_results = wikipedia.search(str(ent), results=no_of_results_per_entity)\n",
    "    \n",
    "    for res in search_results:\n",
    "        try:\n",
    "            selected_ents_text_dict[ent].append(wikipedia.page(res, auto_suggest=False).content)          \n",
    "        except:\n",
    "            continue\n",
    "    \n",
    "    if len(selected_ents_text_dict[ent]) != no_of_results_per_entity:\n",
    "        selected_ents_text_dict.pop(ent)"
   ]
  },
  {
   "cell_type": "code",
   "execution_count": 7,
   "id": "0e2ede38",
   "metadata": {},
   "outputs": [
    {
     "data": {
      "text/plain": [
       "dict_keys(['MERS-CoV', 'SARS', 'the study', 'coronavirus', 'MERS', 'COVID-19', 'airway', 'human adenovirus type 55', 'HAdV-55', 'carrageenan'])"
      ]
     },
     "execution_count": 7,
     "metadata": {},
     "output_type": "execute_result"
    }
   ],
   "source": [
    "selected_ents_text_dict.keys()"
   ]
  },
  {
   "cell_type": "code",
   "execution_count": 5,
   "id": "9b116d16",
   "metadata": {},
   "outputs": [
    {
     "data": {
      "text/plain": [
       "['The Study is an English-language private education all-girls school in Westmount, Quebec. The school was founded in 1915 by a young Englishwoman named Margaret Gascoigne. The Study offers a bilingual mother tongue education to 386 students from Kindergarten to grade 11. As of 2016, a certificate of eligibility for English instruction is no longer required for any grade as The Study does not receive government subsidies.Students are divided into four houses:  Mu Gamma (blue), Kappa Rho (green), Beta Lambda (white), Delta Beta (yellow).\\nThe Study offers both Mandarin and Spanish as a third language, starting in grade 5.\\n\\n\\n== History ==\\nIn 1915 a young Englishwoman named Margaret Gascoigne opened a school for six students in the study of her home. In 1960 The Study moved to its present location in Westmount, one of Montreal’s prime residential neighborhoods. In addition to its founder, eight women have led The Study: Margaret Gascoigne (1915–1934), Mary Harvey (1934–1952), Katharine Lamont (1952–1970), Jean Scott (1970-1982), Eve Marshall (1982–1997), Mary Liistro Hebert (1997–2003), Elizabeth Falco (2003–2010), Mary Liistro Hebert (2010-2011), and Nancy Lewis Sweer (2011 – 2020) and Kim McInnes (2020–present).McGill Queen\\'s University Press published in 2015 No Ordinary School; The Study 1915-2015 a 168-page hard cover commemorative 100th anniversary book about The Study School.\\n\\n\\n== School organization ==\\nThe Study is divided into two \"schools\": elementary school (K – grade 6) and senior school (grade 7 – grade 11).\\nThe school has approximately 385 students total. Each grade is divided into two classes.\\n\\n\\n== Notable alumnae and faculty ==\\nEugenie Bouchard, class of 2011, was the first Canadian ever to win a match in a Grand Slam tournament in singles after her win at Wimbledon as a junior. In 2013, Eugenie won against the 12th seed Ana Ivanovic in two sets at Wimbledon, in 2016 she represented Canada in the Olympics held in Rio.\\nPatricia Claxton class of 1947, is a Canadian translator, primarily of Quebec literature.\\nMarian Dale Scott, painter\\nJoan Dougherty, Liberal MNA\\nJanina Fialkowska class of 1967, named a 2012 Governor General Performing Arts award winner. She received a 2012 Lifetime Artistic Achievement Award (Classical Music) in 2012.\\nPhyllis Lambert (Bronfman) class of 1944, founder of the Canadian Centre for Architecture, Member of the Order of Canada, Knight of the National Order of Quebec\\nMarianne McKenna, class of 1968, is a founding partner of the practice of KPMB Architects. She is an invested Officer of the Order of Canada \"for her contributions as an architect, designing structures that enrich the public realm\".\\nAndréanne Morin, class of 1998 and founding member of The Study\\'s Sports Hall of Fame, silver medalist at the London 2012 Summer Olympics as part of the women’s 8 rowing team. Andréanne is a 3-time Olympian and 8-time National Team athlete.\\nCaroline Rhea, class of 1981, Canadian stand-up comedian and actress, known for her role as Hilda Spellman on Sabrina the Teenage Witch, and for replacing Rosie O\\'Donnell as the hostess of her syndicated talk show, renamed The Caroline Rhea Show.\\nEthel Seath, was an art teacher at The Study from 1917 to 1962. Seath was a founding member of the Beaver Hall Group and was also a member of the Canadian Group of Painters. Her work is included in the collections of the National Gallery of Canada, the Montreal Museum of Fine Arts and the Art Gallery of Ontario.\\n\\n\\n== References ==']"
      ]
     },
     "execution_count": 5,
     "metadata": {},
     "output_type": "execute_result"
    }
   ],
   "source": [
    "selected_ents_text_dict['the study']"
   ]
  },
  {
   "cell_type": "code",
   "execution_count": null,
   "id": "2cb95df8",
   "metadata": {},
   "outputs": [],
   "source": [
    "#import pandas as pd\n",
    "#pd.DataFrame(zip(selected_ents, texts), columns = ['ent', 'text']).to_csv('mini_corpus.csv', index=False)"
   ]
  }
 ],
 "metadata": {
  "kernelspec": {
   "display_name": "Python 3 (ipykernel)",
   "language": "python",
   "name": "python3"
  },
  "language_info": {
   "codemirror_mode": {
    "name": "ipython",
    "version": 3
   },
   "file_extension": ".py",
   "mimetype": "text/x-python",
   "name": "python",
   "nbconvert_exporter": "python",
   "pygments_lexer": "ipython3",
   "version": "3.9.7"
  }
 },
 "nbformat": 4,
 "nbformat_minor": 5
}
