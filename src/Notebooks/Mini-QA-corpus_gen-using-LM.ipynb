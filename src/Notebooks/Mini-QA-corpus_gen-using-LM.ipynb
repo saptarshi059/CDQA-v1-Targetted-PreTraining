{
 "cells": [
  {
   "cell_type": "code",
   "execution_count": 1,
   "id": "94402cfc",
   "metadata": {},
   "outputs": [
    {
     "name": "stderr",
     "output_type": "stream",
     "text": [
      "2022-12-08 14:22:51.113616: W tensorflow/stream_executor/platform/default/dso_loader.cc:64] Could not load dynamic library 'libcudart.so.11.0'; dlerror: libcudart.so.11.0: cannot open shared object file: No such file or directory\n",
      "2022-12-08 14:22:51.113635: I tensorflow/stream_executor/cuda/cudart_stub.cc:29] Ignore above cudart dlerror if you do not have a GPU set up on your machine.\n"
     ]
    }
   ],
   "source": [
    "import pickle5 as pickle\n",
    "import os\n",
    "from transformers import AutoTokenizer\n",
    "from tqdm.auto import tqdm\n",
    "from collections import Counter\n",
    "from transformers import pipeline\n",
    "import pandas as pd\n",
    "\n",
    "stanza_ents_file_path = os.path.abspath('../../data/stanza_ents-from_questions.pkl')\n",
    "stanza_ents_main = pickle.load(open(stanza_ents_file_path, 'rb'))"
   ]
  },
  {
   "cell_type": "code",
   "execution_count": 2,
   "id": "637a91d7",
   "metadata": {},
   "outputs": [
    {
     "data": {
      "application/vnd.jupyter.widget-view+json": {
       "model_id": "59b1d628dfe84b6a844c8b253ccc94a3",
       "version_major": 2,
       "version_minor": 0
      },
      "text/plain": [
       "  0%|          | 0/1313 [00:00<?, ?it/s]"
      ]
     },
     "metadata": {},
     "output_type": "display_data"
    }
   ],
   "source": [
    "tokenizer = AutoTokenizer.from_pretrained('bert-base-uncased')\n",
    "model_vocab = list(tokenizer.vocab.keys())\n",
    "\n",
    "#Keeping only unique enitities\n",
    "stanza_ents_main = list(set(stanza_ents_main))\n",
    "\n",
    "#Removing those entities that are also in the model vocab since we don't want 2 of the same token embedding.\n",
    "ent_in_model_vocab = []\n",
    "for ent in tqdm(stanza_ents_main):\n",
    "    if ent in model_vocab:\n",
    "        ent_in_model_vocab.append(ent)\n",
    "\n",
    "for ent in ent_in_model_vocab:\n",
    "    stanza_ents_main.remove(ent)"
   ]
  },
  {
   "cell_type": "code",
   "execution_count": null,
   "id": "0122203d",
   "metadata": {},
   "outputs": [],
   "source": [
    "#Removing 1 length entities - I realized that this doesn't really make much of a difference.\n",
    "'''\n",
    "keys_to_remove = []\n",
    "for key in stanza_ents_main:\n",
    "    if len(key) == 1:\n",
    "        keys_to_remove.append(key)\n",
    "        \n",
    "for key in keys_to_remove:\n",
    "    stanza_ents_main.remove(key)\n",
    "'''"
   ]
  },
  {
   "cell_type": "code",
   "execution_count": null,
   "id": "abbb22a6",
   "metadata": {},
   "outputs": [],
   "source": [
    "#Setting up the text-generator\n",
    "generator = pipeline('text-generation', model = \"bigscience/bloom-560m\", device=0)"
   ]
  },
  {
   "cell_type": "code",
   "execution_count": null,
   "id": "680776d6",
   "metadata": {
    "code_folding": []
   },
   "outputs": [],
   "source": [
    "sample_id = []\n",
    "title = []\n",
    "contexts = []\n",
    "questions = []\n",
    "answers = []\n",
    "\n",
    "def triple_gen(ent, ques):\n",
    "    questions.append(ques)\n",
    "    ctx_body = generator(ent, renormalize_logits=True, \n",
    "                              do_sample=True, max_new_tokens=2000)[0]['generated_text']\n",
    "    \n",
    "    ans_prefix = ques[ques.find(',')+1: ques.find('?')].strip()\n",
    "    ans_text = generator(ans_prefix, renormalize_logits=True, do_sample=True,\n",
    "                         max_new_tokens=100)[0]['generated_text']\n",
    "    \n",
    "    total_context = ctx_body + '' + ans_text\n",
    "    contexts.append(total_context)\n",
    "    \n",
    "    answers.append({'text': [ans_text], 'answer_start': [total_context.find(ans_text)]})\n",
    "\n",
    "c = 0\n",
    "for ent in tqdm(stanza_ents_main):\n",
    "    #Question-1 (Is)\n",
    "    sample_id.append(str(c))\n",
    "    c += 1\n",
    "    title.append('Is' + ent)\n",
    "    triple_gen(ent, generator(f\"Question: Is {ent},\", renormalize_logits=True, do_sample=True, \n",
    "                               forced_eos_token_id=[34], \n",
    "                               max_new_tokens=10)[0]['generated_text'].strip('Question: '))\n",
    "    \n",
    "    #Question-2 (In)\n",
    "    sample_id.append(str(c))\n",
    "    c += 1\n",
    "    title.append('In' + ent)\n",
    "    triple_gen(ent, generator(f\"Question: In {ent},\", renormalize_logits=True, do_sample=True, \n",
    "                               forced_eos_token_id=[34], \n",
    "                               max_new_tokens=10)[0]['generated_text'].strip('Question: '))\n",
    "    \n",
    "    #Question-3 (Why)\n",
    "    sample_id.append(str(c))\n",
    "    c += 1\n",
    "    title.append('Why' + ent)\n",
    "    triple_gen(ent, generator(f\"Question: Why {ent},\", renormalize_logits=True, do_sample=True, \n",
    "                               forced_eos_token_id=[34], \n",
    "                               max_new_tokens=10)[0]['generated_text'].strip('Question: '))\n",
    "    \n",
    "    #Question-4 (During)\n",
    "    sample_id.append(str(c))\n",
    "    c += 1\n",
    "    title.append('During' + ent)\n",
    "    triple_gen(ent, generator(f\"Question: During {ent},\", renormalize_logits=True, do_sample=True, \n",
    "                               forced_eos_token_id=[34], \n",
    "                               max_new_tokens=10)[0]['generated_text'].strip('Question: '))\n",
    "    \n",
    "    #Question-5 (Which)\n",
    "    sample_id.append(str(c))\n",
    "    c += 1\n",
    "    title.append('Which' + ent)\n",
    "    triple_gen(ent, generator(f\"Question: Which {ent},\", renormalize_logits=True, do_sample=True, \n",
    "                               forced_eos_token_id=[34], \n",
    "                               max_new_tokens=10)[0]['generated_text'].strip('Question: '))\n",
    "    \n",
    "#Saving the dataframe as parquet since it was messing up formats.\n",
    "pd.DataFrame(zip(sample_id, title, context, question, answers), \n",
    "             columns = ['id', 'title', 'context', 'question'\n",
    "                       ,'answers']).to_parquet('mini-corpus-for-extended-QA')"
   ]
  }
 ],
 "metadata": {
  "kernelspec": {
   "display_name": "Python 3 (ipykernel)",
   "language": "python",
   "name": "python3"
  },
  "language_info": {
   "codemirror_mode": {
    "name": "ipython",
    "version": 3
   },
   "file_extension": ".py",
   "mimetype": "text/x-python",
   "name": "python",
   "nbconvert_exporter": "python",
   "pygments_lexer": "ipython3",
   "version": "3.9.7"
  }
 },
 "nbformat": 4,
 "nbformat_minor": 5
}
