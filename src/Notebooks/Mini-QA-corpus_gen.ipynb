{
 "cells": [
  {
   "cell_type": "code",
   "execution_count": 29,
   "id": "dff72e58",
   "metadata": {},
   "outputs": [],
   "source": [
    "import pandas as pd\n",
    "import pickle5 as pickle\n",
    "\n",
    "selected_stanza_ents = pd.read_csv('../../data/our-wikipedia-corpus/Tokens_From_Question_side/mini_corpus-10T5CpT.csv')\n",
    "stanza_ents_main = pd.read_pickle(open('../../data/stanza_ents-from_context.pkl','rb'))\n",
    "\n",
    "from transformers import AutoTokenizer\n",
    "tokenizer = AutoTokenizer.from_pretrained('distilbert-base-uncased')\n",
    "model_vocab = list(tokenizer.vocab.keys())"
   ]
  },
  {
   "cell_type": "code",
   "execution_count": 30,
   "id": "1af10b4d",
   "metadata": {},
   "outputs": [
    {
     "data": {
      "application/vnd.jupyter.widget-view+json": {
       "model_id": "e897c6e7d4484119b2f2ec9ad5afde53",
       "version_major": 2,
       "version_minor": 0
      },
      "text/plain": [
       "  0%|          | 0/92265 [00:00<?, ?it/s]"
      ]
     },
     "metadata": {},
     "output_type": "display_data"
    }
   ],
   "source": [
    "from tqdm.auto import tqdm\n",
    "\n",
    "#Removing those entities that are also in the model vocab since we don't want 2 of the same token embedding.\n",
    "ent_in_model_vocab = []\n",
    "for ent in tqdm(stanza_ents_main):\n",
    "    if ent in model_vocab:\n",
    "        ent_in_model_vocab.append(ent)\n",
    "\n",
    "for ent in ent_in_model_vocab:\n",
    "    stanza_ents_main.remove(ent)\n",
    "\n",
    "#Removing all occurrences of the selected entities. This is where we want fresh new entities & contexts.\n",
    "for ent in list(set(selected_stanza_ents.ent.to_list())):\n",
    "    if ent in stanza_ents_main:\n",
    "        stanza_ents_main = list(filter((ent).__ne__, stanza_ents_main))"
   ]
  },
  {
   "cell_type": "code",
   "execution_count": 31,
   "id": "eddda626",
   "metadata": {},
   "outputs": [],
   "source": [
    "from collections import Counter\n",
    "s = Counter(stanza_ents_main)\n",
    "sorted_ent_counts = dict(sorted(s.items(), key=lambda item: item[1], reverse=True))"
   ]
  },
  {
   "cell_type": "code",
   "execution_count": 32,
   "id": "912f5ff6",
   "metadata": {},
   "outputs": [],
   "source": [
    "keys_to_remove = []\n",
    "for key in sorted_ent_counts.keys():\n",
    "    if len(key) == 1:\n",
    "        keys_to_remove.append(key)\n",
    "        \n",
    "for key in keys_to_remove:\n",
    "    sorted_ent_counts.pop(key)"
   ]
  },
  {
   "cell_type": "code",
   "execution_count": null,
   "id": "1f07cbc3",
   "metadata": {
    "code_folding": [
     0
    ]
   },
   "outputs": [],
   "source": [
    "#With only one context approach - most likely the one to use\n",
    "\n",
    "import wikipedia\n",
    "from collections import defaultdict\n",
    "\n",
    "no_of_ents_to_select = 100\n",
    "selected_ents_text_dict = defaultdict(list)\n",
    "\n",
    "for ent in tqdm(sorted_ent_counts.keys()):\n",
    "    if len(selected_ents_text_dict.keys()) == no_of_ents_to_select:\n",
    "        break\n",
    "\n",
    "    try:\n",
    "        search_result = wikipedia.search(str(ent), results=1)[0]\n",
    "    except:\n",
    "        continue\n",
    "\n",
    "    try:\n",
    "        wiki_query = wikipedia.page(search_result, auto_suggest=False)\n",
    "        selected_ents_text_dict[ent].append(wiki_query.summary)\n",
    "        selected_ents_text_dict[ent].append(wiki_query.content)\n",
    "    except:\n",
    "        continue\n",
    "        \n",
    "    if len(selected_ents_text_dict.keys()) % 100 == 0:\n",
    "        print(f'No. of entities selected so far: {len(selected_ents_text_dict.keys())}') "
   ]
  },
  {
   "cell_type": "code",
   "execution_count": 36,
   "id": "d33bb18f",
   "metadata": {},
   "outputs": [
    {
     "data": {
      "application/vnd.jupyter.widget-view+json": {
       "model_id": "9ce1583d332b46cfacbeb898d0383e75",
       "version_major": 2,
       "version_minor": 0
      },
      "text/plain": [
       "  0%|          | 0/29484 [00:00<?, ?it/s]"
      ]
     },
     "metadata": {},
     "output_type": "display_data"
    },
    {
     "name": "stderr",
     "output_type": "stream",
     "text": [
      "/home/saptarshi/anaconda3/lib/python3.9/site-packages/wikipedia/wikipedia.py:389: GuessedAtParserWarning: No parser was explicitly specified, so I'm using the best available HTML parser for this system (\"lxml\"). This usually isn't a problem, but if you run this code on another system, or in a different virtual environment, it may use a different parser and behave differently.\n",
      "\n",
      "The code that caused this warning is on line 389 of the file /home/saptarshi/anaconda3/lib/python3.9/site-packages/wikipedia/wikipedia.py. To get rid of this warning, pass the additional argument 'features=\"lxml\"' to the BeautifulSoup constructor.\n",
      "\n",
      "  lis = BeautifulSoup(html).find_all('li')\n"
     ]
    },
    {
     "name": "stdout",
     "output_type": "stream",
     "text": [
      "Entities that were selected: dict_keys(['DNA', 'MERS-CoV', 'HTNV', 'H5N1', 'IFITM5', 'E. coli', 'IFN', 'PCR', 'MKP-1', 'COVID', 'Spo0A', 'B cells', 'respiratory viruses', 'nucleotide', 'IFITM3', 'CC10', 'NEAT1', 'amino acid', 'our study', 'influenza virus', 'IgG', 'IAV', 'the disease', 'HUVECs', 'macrophages', 'influenza viruses', 'EGR1', 'SARS-CoV', 'RIG-I', 'cytokine', 'Ebola', 'CEACAM1', 'mucosal', 'rVSV', 'Fgl2', 'C. difficile', 'nucleolar', 'HIV', 'HMPV', 'CD40L', 'Zanamivir', 'PBS', 'PEDV', 'nucleolus', 'pertussis', 'consistent with', 'intracellular', 'IgM', 'B cell', 'coronaviruses'])\n"
     ]
    }
   ],
   "source": [
    "import wikipedia\n",
    "from collections import defaultdict\n",
    "\n",
    "no_of_ents_to_select = 50\n",
    "no_of_results_per_entity = 2\n",
    "\n",
    "selected_ents_text_dict = defaultdict(list)\n",
    "\n",
    "for ent in tqdm(sorted_ent_counts.keys()):\n",
    "    if len(selected_ents_text_dict) == no_of_ents_to_select:\n",
    "        break\n",
    "    \n",
    "    search_results = wikipedia.search(str(ent), results=no_of_results_per_entity)\n",
    "    \n",
    "    no_of_ctx_available = 0\n",
    "    final_ctx = ''\n",
    "    \n",
    "    for res in search_results:\n",
    "        try:\n",
    "            final_ctx += wikipedia.page(res, auto_suggest=False).content\n",
    "            no_of_ctx_available += 1          \n",
    "        except:\n",
    "            continue\n",
    "    \n",
    "    if no_of_ctx_available == no_of_results_per_entity:\n",
    "        selected_ents_text_dict[ent].append(wikipedia.page(search_results[0], auto_suggest=False).summary)\n",
    "        selected_ents_text_dict[ent].append(final_ctx)\n",
    "        \n",
    "print(f'Entities that were selected: {selected_ents_text_dict.keys()}')"
   ]
  },
  {
   "cell_type": "code",
   "execution_count": 37,
   "id": "f5e5f702",
   "metadata": {},
   "outputs": [],
   "source": [
    "sample_id = []\n",
    "title = []\n",
    "context = []\n",
    "question = []\n",
    "answers = []\n",
    "\n",
    "for idx, (ent, page_data) in enumerate(selected_ents_text_dict.items()):\n",
    "    sample_id.append(str(idx))\n",
    "    title.append(ent)\n",
    "    context.append(page_data[1])\n",
    "    question.append(f'What is {ent}?')\n",
    "    answers.append({'text': [page_data[0]], 'answer_start': [page_data[1].find(page_data[0])]})\n",
    "    \n",
    "#Saving the dataframe as parquet since it was messing up formats.\n",
    "pd.DataFrame(zip(sample_id, title, context, question, answers), \n",
    "             columns = ['id', 'title', 'context', 'question'\n",
    "                       ,'answers']).to_parquet('mini-corpus-for-extended-QA')"
   ]
  },
  {
   "cell_type": "code",
   "execution_count": 38,
   "id": "b8cad29b",
   "metadata": {},
   "outputs": [
    {
     "name": "stderr",
     "output_type": "stream",
     "text": [
      "Using custom data configuration default-4fbb762fb5bcbb9f\n"
     ]
    },
    {
     "name": "stdout",
     "output_type": "stream",
     "text": [
      "Downloading and preparing dataset parquet/default to /home/saptarshi/.cache/huggingface/datasets/parquet/default-4fbb762fb5bcbb9f/0.0.0/2a3b91fbd88a2c90d1dbbb32b460cf621d31bd5b05b934492fdef7d8d6f236ec...\n"
     ]
    },
    {
     "data": {
      "application/vnd.jupyter.widget-view+json": {
       "model_id": "cf7cd4a3b0cd498390fe44f53a9e2c46",
       "version_major": 2,
       "version_minor": 0
      },
      "text/plain": [
       "Downloading data files:   0%|          | 0/1 [00:00<?, ?it/s]"
      ]
     },
     "metadata": {},
     "output_type": "display_data"
    },
    {
     "data": {
      "application/vnd.jupyter.widget-view+json": {
       "model_id": "fc9453558efe4f43982beb5e3d8ffa41",
       "version_major": 2,
       "version_minor": 0
      },
      "text/plain": [
       "Extracting data files:   0%|          | 0/1 [00:00<?, ?it/s]"
      ]
     },
     "metadata": {},
     "output_type": "display_data"
    },
    {
     "data": {
      "application/vnd.jupyter.widget-view+json": {
       "model_id": "",
       "version_major": 2,
       "version_minor": 0
      },
      "text/plain": [
       "0 tables [00:00, ? tables/s]"
      ]
     },
     "metadata": {},
     "output_type": "display_data"
    },
    {
     "name": "stdout",
     "output_type": "stream",
     "text": [
      "Dataset parquet downloaded and prepared to /home/saptarshi/.cache/huggingface/datasets/parquet/default-4fbb762fb5bcbb9f/0.0.0/2a3b91fbd88a2c90d1dbbb32b460cf621d31bd5b05b934492fdef7d8d6f236ec. Subsequent calls will reuse this data.\n"
     ]
    },
    {
     "data": {
      "application/vnd.jupyter.widget-view+json": {
       "model_id": "a2fec473042e408d94d5982c6e30b667",
       "version_major": 2,
       "version_minor": 0
      },
      "text/plain": [
       "  0%|          | 0/1 [00:00<?, ?it/s]"
      ]
     },
     "metadata": {},
     "output_type": "display_data"
    }
   ],
   "source": [
    "from datasets import load_dataset\n",
    "import os\n",
    "\n",
    "s = load_dataset('parquet', data_files=os.path.abspath('../../data/our-wikipedia-corpus/mini-corpus-for-extended-QA'))"
   ]
  },
  {
   "cell_type": "code",
   "execution_count": 45,
   "id": "e7a48e5e",
   "metadata": {},
   "outputs": [
    {
     "data": {
      "text/plain": [
       "'Middle East respiratory syndrome–related coronavirus (MERS-CoV), or EMC/2012 (HCoV-EMC/2012), is the virus that causes Middle East respiratory syndrome (MERS). It is a species of coronavirus which infects humans, bats, and camels. The infecting virus is an enveloped, positive-sense, single-stranded RNA virus which enters its host cell by binding to the DPP4 receptor. The species is a member of the genus Betacoronavirus and subgenus Merbecovirus.Initially called simply novel coronavirus or nCoV, it was first reported in June 2012 after genome sequencing of a virus isolated from sputum samples from a person who fell ill in a 2012 outbreak of a new flu-like respiratory illness. By July 2015, MERS-CoV cases had been reported in over 21 countries, in Europe, North America and Asia as well as the Middle East. MERS-CoV is one of several viruses identified by the World Health Organization (WHO) as a likely cause of a future epidemic. They list it for urgent research and development.\\n\\n\\n== Virology ==\\nThe virus MERS-CoV is a member of the beta group of coronavirus, Betacoronavirus, lineage C. MERS-CoV genomes are phylogenetically classified into two clades, clade A and B. The earliest cases were of clade A clusters, while the majority of more recent cases are of the genetically distinct clade B.MERS-CoV is one of seven known coronaviruses to infect humans, including\\nHCoV-229E,\\nHCoV-NL63,\\nHCoV-OC43,\\nHCoV-HKU1, the original\\nSARS-CoV (or SARS-CoV-1), and SARS-CoV-2. It has frequently been referred to as a SARS-like virus. By November, 2019, 2,494 cases of MERS had been reported with 858 deaths, implying a case fatality rate of greater than 30%.\\n\\n\\n=== Early cases and spillover event ===\\nThe first confirmed case was reported in Jeddah, Saudi Arabia in April 2012. Egyptian virologist Ali Mohamed Zaki isolated and identified a previously unknown coronavirus from the man\\'s lungs. Zaki then posted his findings on 24 September 2012 on ProMED-mail. The isolated cells showed cytopathic effects (CPE),  in the form of rounding and syncytia formation.A second case was found in September 2012, when a 49-year-old man living in Qatar presented with similar flu symptoms. A sequence of the virus was nearly identical to that of the first case. In November 2012, similar cases appeared in Qatar and Saudi Arabia. Additional cases were noted, with deaths associated, and rapid research and monitoring of the novel coronavirus began. It is not known whether the infections are the result of a single zoonotic event with subsequent human-to-human transmission, or if the multiple geographic sites of infection represent multiple zoonotic events from an unknown common source.A study by Ziad Memish of Riyadh University and colleagues suggests that the virus arose some time between July 2007 and June 2012, with perhaps as many as seven separate zoonotic transmissions. Among animal reservoirs, CoV has a large genetic diversity yet the samples from patients suggested a similar genome, and therefore common source, though the data were limited. It was determined through molecular clock analysis that viruses from the EMC/2012 and England/Qatar/2012 date to early 2011, suggesting that these cases were descended from a single zoonotic event. It appeared the MERS-CoV had been circulating in the human population for more than a year without detection, and suggested independent transmission from an unknown source.\\n\\n\\n=== Tropism ===\\nIn humans, the virus has a strong tropism for nonciliated bronchial epithelial cells, and it has been shown to effectively evade the innate immune responses and antagonize interferon (IFN) production in these cells. This tropism is unique in that most respiratory viruses target ciliated cells.Due to the clinical similarity between MERS-CoV and SARS-CoV, it was proposed that they may use the same cellular receptor; the exopeptidase, angiotensin converting enzyme 2 (ACE2). However, it was later discovered that neutralization of ACE2 by recombinant antibodies does not prevent MERS-CoV infection. Further research identified dipeptidyl peptidase 4 (DPP4; also known as CD26) as a functional cellular receptor for MERS-CoV. Unlike other known coronavirus receptors, the enzymatic activity of DPP4 is not required for infection. As would be expected, the amino acid sequence of DPP4 is highly conserved across species and is expressed in the human bronchial epithelium and kidneys. Bat DPP4 genes appear to have been subject to a high degree of adaptive evolution as a response to coronavirus infections, so the lineage leading to MERS-CoV may have circulated in bat populations for a long period of time before being transmitted to people.\\n\\n\\n=== Transmission ===\\n\\nOn 13 February 2013, the World Health Organization stated that \"the risk of sustained person-to-person transmission appears to be very low.\" The cells MERS-CoV infects in the lungs only account for 20% of respiratory epithelial cells, so a large number of virions are likely needed to be inhaled to cause infection.Anthony Fauci of the National Institutes of Health in Bethesda, Maryland, stated that MERS-CoV \"does not spread in a sustained person to person way at all,\" while noting the possibility that the virus could mutate into a strain that does transmit from person to person. However, the infection of healthcare workers has led to concerns of human to human transmission.The Centers for Disease Control and Prevention (CDC) list MERS as transmissible from human to human. They state that \"MERS-CoV has been shown to spread between people who are in close contact. Transmission from infected patients to healthcare personnel has also been observed. Clusters of cases in several countries are being investigated.\"However, on the 28th of May, the CDC revealed that the Illinois man who was originally thought to have been the first incidence of person-to-person spread (from the Indiana man at a business meeting), had in fact tested negative for MERS-CoV. After completing additional and more definitive tests using a neutralising antibody assay, experts at the CDC concluded that the Indiana patient did not spread the virus to the Illinois patient. Tests concluded that the Illinois man had not been previously infected. It is possible for MERS to be symptomless, and early research has shown that up to 20% of cases show no signs of active infection but have MERS-CoV antibodies in their blood.\\n\\n\\n=== Evolution ===\\n\\nThe virus appears to have originated in bats. The virus itself has been isolated from a bat. This virus is closely related to the Tylonycteris bat coronavirus HKU4 and Pipistrellus bat coronavirus HKU5. Serological evidence shows that these viruses have infected camels for at least 20 years. The most recent common ancestor of several human strains has been dated to March 2012 (95% confidence interval December 2011 to June 2012).It is thought that the viruses have been present in bats for some time and had spread to camels by the mid-1990s. The viruses appear to have spread from camels to humans in the early 2010s. The original bat host species and the time of initial infection in this species has yet to be determined. Examination of the sequences of 238 isolates suggested that this virus has evolved into three clades differing in codon usage, host, and geographic distribution.\\n\\n\\n=== Natural reservoir ===\\nIt is believed that the virus originated in bats, one candidate being the Egyptian tomb bat. Work by epidemiologist Ian Lipkin of Columbia University in New York showed that the virus isolated from a bat looked to be a match to the virus found in humans.  2c betacoronaviruses were detected in Nycteris bats in Ghana and Pipistrellus bats in Europe that are phylogenetically related to the MERS-CoV virus. However the major natural reservoir where humans get the virus infection remained unknown until on 9 August 2013, a report in the journal The Lancet Infectious Diseases showed that 50 out of 50 (100%) blood serum from Omani camels and 15 of 105 (14%) from Spanish camels had protein-specific antibodies against the MERS-CoV spike protein. Blood serum from European sheep, goats, cattle, and other camelids had no such antibodies.Soon after on 5 September 2013 a seroepidemiological study published in the journal of Eurosurveillance by R.A Perera et al. where they investigated 1343 human and 625 animal sera indicated, the abundant presence of MERS-CoV specific antibody in 108 out of 110 Egyptian dromedary camels but not in other animals such as goats, cows or sheep in this region. These are the first and significant scientific reports that indicated the role of \"dromedary camels\" as a reservoir of MERS-CoV.\\nResearch has linked camels, showing that the coronavirus infection in dromedary camel calves and adults is a 99.9% match to the genomes of human clade B MERS-CoV. At least one person who has fallen sick with MERS was known to have come into contact with camels or recently drank camel milk. Countries like Saudi Arabia and the United Arab Emirates produce and consume large amounts of camel meat. The possibility exists that African or Australian bats harbor the virus and transmit it to camels. Imported camels from these regions might have carried the virus to the Middle East.In 2013 MERS-CoV was identified in three members of a dromedary camel herd held in a Qatar barn, which was linked to two confirmed human cases who have since recovered. The presence of MERS-CoV in the camels was confirmed by the National Institute of Public Health and Environment (RIVM) of the Ministry of Health and the Erasmus Medical Center (WHO Collaborating Center), the Netherlands. None of the camels showed any sign of disease when the samples were collected. The Qatar Supreme Council of Health advised in November 2013 that people with underlying health conditions, such as heart disease, diabetes, kidney disease, respiratory disease, the immunosuppressed, and the elderly, avoid any close animal contacts when visiting farms and markets, and to practice good hygiene, such as washing hands.A further study on dromedary camels from Saudi Arabia published in December 2013 revealed the presence of MERS-CoV in 90% of the evaluated dromedary camels (310), suggesting that dromedary camels not only could be the main reservoir of MERS-CoV, but also the animal source of MERS.According to the 27 March 2014 MERS-CoV summary update, recent studies support that camels serve as the primary source of the MERS-CoV infecting humans, while bats may be the ultimate reservoir of the virus. Evidence includes the frequency with which the virus has been found in camels to which human cases have been exposed, seriological data which shows widespread transmission in camels, and the similarity of the camel CoV to the human CoV.On 6 June 2014, the Arab News newspaper highlighted the latest research findings in the New England Journal of Medicine in which a 44-year-old Saudi man who kept a herd of nine camels died of MERS in November 2013.  His friends said they witnessed him applying a topical medicine to the nose of one of his ill camels—four of them reportedly sick with nasal discharge—seven days before he himself became stricken with MERS.  Researchers sequenced the virus found in one of the sick camels and the virus that killed the man, and found that their genomes were identical.  In that same article, the Arab News reported that as of 6 June 2014, there have been 689 cases of MERS reported within the Kingdom of Saudi Arabia with 283 deaths.\\n\\n\\n=== Taxonomy ===\\nMERS-CoV is more closely related to the bat coronaviruses HKU4 and HKU5 (lineage 2C) than it is to SARS-CoV (lineage 2B) (2, 9), sharing more than 90% sequence identity with their closest relationships, bat coronaviruses HKU4 and HKU5 and therefore considered to belong to the same species by the International Committee on Taxonomy of Viruses (ICTV).\\nMnemonic:\\nTaxon identifier:\\nScientific name: Middle East respiratory syndrome coronavirus\\nCommon name: MERS-CoV\\nSynonym: Severe acute respiratory syndrome coronavirus\\nOther names:\\nnovel coronavirus (nCoV)\\nLondon1 novel CoV/2012\\nHuman Coronavirus Erasmus Medical Center/2012 (HCoV-EMC/2012)\\nRank:\\nLineage:› Viruses\\n› ssRNA viruses\\n› Group: IV; positive-sense, single-stranded RNA viruses\\n› Order: Nidovirales\\n› Family: Coronaviridae\\n› Subfamily: Coronavirinae\\n› Genus: Betacoronavirus› Species: Betacoronavirus 1 (commonly called Human coronavirus OC43), Human coronavirus HKU1, Murine coronavirus, Pipistrellus bat coronavirus HKU5, Rousettus bat coronavirus HKU9, Severe acute respiratory syndrome-related coronavirus, Tylonycteris bat coronavirus HKU4, MERS-CoV, Severe acute respiratory syndrome coronavirus 2Virus hosts:\\nHomo sapiens (human)\\nCamels\\nBatsStrains:\\n\\nIsolate:\\nIsolate:\\nNCBI\\n\\n\\n== Research and patent ==\\nSaudi officials had not given permission for Dr. Zaki, the first isolator of the human strain, to send a sample of the virus to Fouchier and were angered when Fouchier claimed the patent on the full genetic sequence of MERS-CoV.The editor of The Economist observed, \"Concern over security must not slow urgent work. Studying a deadly virus is risky. Not studying it is riskier.\" Dr. Zaki was fired from his job at the hospital as a result of bypassing the Saudi Ministry of Health in his announcement and sharing his sample and findings.At their annual meeting of the World Health Assembly in May 2013, WHO chief Margaret Chan declared that intellectual property, or patents on strains of new virus, should not impede nations from protecting their citizens by limiting scientific investigations. Deputy Health Minister Ziad Memish raised concerns that scientists who held the patent for MERS-CoV would not allow other scientists to use patented material and were therefore delaying the development of diagnostic tests. Erasmus MC responded that the patent application did not restrict public health research into MERS and MERS-CoV, and that the virus and diagnostic tests were shipped—free of charge—to all that requested such reagents.\\n\\n\\n== Mapping ==\\nThere are a number of mapping efforts focused on tracking MERS coronavirus. On 2 May 2014, the Corona Map was launched to track the MERS coronavirus in realtime on the world map. The data is officially reported by WHO or the Ministry of Health of the respective country. HealthMap also tracks case reports with inclusion of news and social media as data sources as part of HealthMap MERS. South Korea was infected in mid-2015, with 38 deaths among 186 cases of infection.\\n\\n\\n== See also ==\\n\\nEuropean Centre for Disease Prevention and Control\\nNovel virus\\nSuper-spreader\\nVirulence\\nCoalition for Epidemic Preparedness Innovations\\n\\n\\n== References ==\\n\\n\\n== External links ==\\n\\nEmergence of the Middle East Respiratory Syndrome Coronavirus\\nMERS-CoV Complete Genome\\nEmerging viruses\\nMolecular Illustration of MERS-Coronavirus\\nPhilippines still MERS-CoV free – DOH\\nDeadly Middle East Coronavirus found in an Egyptian tomb batMiddle East respiratory syndrome (MERS) is a viral respiratory infection caused by Middle East respiratory syndrome–related coronavirus (MERS-CoV). Symptoms may range from none, to mild, to severe. Typical symptoms include fever, cough, diarrhea, and shortness of breath. The disease is typically more severe in those with other health problems.The first case was identified in June 2012 by Egyptian physician Ali Mohamed Zaki at the Dr. Soliman Fakeeh Hospital in Jeddah, Saudi Arabia, and most cases have occurred in the Arabian Peninsula. Over 2,500 cases have been reported as of January 2021, including 45 cases in the year 2020. About 35% of those who are diagnosed with the disease die from it. Larger outbreaks have occurred in South Korea in 2015 and in Saudi Arabia in 2018.MERS-CoV is a coronavirus believed to be originally from bats. However, humans are typically infected from camels, either during direct contact or indirectly. Spread between humans typically requires close contact with an infected person. Its spread is uncommon outside of hospitals. Thus, its risk to the global population is currently deemed to be fairly low. Diagnosis is by rRT-PCR testing of blood and respiratory samples.As of 2021, there is no specific vaccine or treatment for the disease, but a number are being developed. The World Health Organization (WHO) recommends that those who come in contact with camels wash their hands and not touch sick camels. They also recommend that camel-based food products be appropriately cooked. Treatments that help with the symptoms and support body functioning may be used.Previous infection with MERS can confer cross-reactive immunity to SARS-CoV-2 and provide partial protection against COVID-19. However, co-infection with SARS-CoV-2 and MERS is possible and could lead to a recombination event.\\n\\n\\n== Signs and symptoms ==\\n\\nEarly reports compared the viruses to severe acute respiratory syndrome (SARS), and it has been referred to as Saudi Arabia\\'s SARS-like virus. The first person, in June 2012, had a fever, cough, expectoration, and shortness of breath. One review of 47 laboratory confirmed cases in Saudi Arabia gave the most common presenting symptoms as fever in 98%, cough in 83%, shortness of breath in 72% and myalgia in 32% of people. There were also frequent gastrointestinal symptoms with diarrhea in 26%, vomiting in 21%, abdominal pain in 17% of people. 72% of people required mechanical ventilation. There were also 3.3 males for every female. One study of a hospital-based outbreak of MERS had an estimated incubation period of 5.5 days (95% confidence interval 1.9 to 14.7 days). MERS can range from asymptomatic disease to severe pneumonia leading to acute respiratory distress syndrome (ARDS). Kidney failure, disseminated intravascular coagulation (DIC), and pericarditis have also been reported.\\n\\n\\n== Cause ==\\n\\n\\n=== Virology ===\\n\\nMiddle East respiratory syndrome is caused by the MERS coronavirus (MERS-CoV), a species with single-stranded RNA belonging to the genus betacoronavirus which is distinct from SARS coronavirus and the common-cold coronavirus. Its genomes are phylogenetically classified into two clades, Clades A and B. Early cases of MERS were of Clade A clusters (EMC/2012 and Jordan-N3/2012) while new cases are genetically different in general (Clade B). The virus grows readily on Vero cells and LLC-MK2 cells. In November 2012, Egyptian virologist Dr. Ali Zaki sent a virus sample from the first confirmed case in Saudi Arabia to virologist Ron Fouchier, a leading coronavirus researcher at the Erasmus Medical Center (EMC) in Rotterdam, the Netherlands. The second laboratory-proven case was in London, confirmed by the UK Health Protection Agency (HPA). The HPA named the virus the London1_novel CoV 2012.\\n\\n\\n=== Transmission ===\\n\\n\\n==== Camels ====\\nA study performed between 2010 and 2013, in which the incidence of MERS was evaluated in 310 dromedary camels, revealed high titers of neutralizing antibodies to MERS-CoV in the blood serum of these animals. A further study sequenced MERS-CoV from nasal swabs of dromedary camels in Saudi Arabia and found they had sequences identical to previously sequenced human isolates. Some individual camels were also found to have more than one genomic variant in their nasopharynx. There is also a report of a Saudi Arabian man who became ill seven days after applying topical medicine to the noses of several sick camels and later he and one of the camels were found to have identical strains of MERS-CoV. It is still unclear how the virus is transmitted from camels to humans. The World Health Organization advises avoiding contact with camels and to eat only fully cooked camel meat, pasteurized camel milk, and to avoid drinking camel urine. The Saudi Ministry of Agriculture has advised people to avoid contact with camels or wear breathing masks when around them. In response \"some people have refused to listen to the government\\'s advice\" and kiss their camels in defiance of their government\\'s advice.\\n\\n\\n==== Between people ====\\nThere has been evidence of limited, but not sustained spread of MERS-CoV from person to person, both in households as well as in health care settings like hospitals. Most transmission has occurred \"in the circumstances of close contact with severely ill persons in healthcare or household settings\" and there is no evidence of transmission from asymptomatic cases. Cluster sizes have ranged from 1 to 26 people, with an average of 2.7.\\n\\n\\n== Diagnosis ==\\nAccording to World Health Organization, the interim case definition is that a confirmed case is identified in a person with a positive lab test by \"molecular diagnostics including either a positive PCR on at least two specific genomic targets or a single positive target with sequencing on a second\".\\n\\n\\n=== World Health Organization ===\\nAccording to the WHO, a probable case is\\na person with a fever, respiratory infection, and evidence of pneumonia or acute respiratory distress syndrome, where testing for MERS-CoV is unavailable or negative on a single inadequate specimen, and the person has a direct link with a confirmed case.\\nA person with an acute febrile respiratory illness with clinical, radiological, or histopathological evidence of pulmonary parenchymal disease (e.g., pneumonia or acute respiratory distress Syndrome), an inconclusive MERS-CoV laboratory test (that is, a positive screening test without confirmation), and a resident of or traveler to Middle Eastern countries where MERS-CoV virus is believed to be circulating in the 14 days before onset of illness.\\nA person with an acute febrile respiratory illness of any severity, an inconclusive MERS-CoV laboratory test (that is, a positive screening test without confirmation), and a direct epidemiologic link with a confirmed MERS-CoV case.\\n\\n\\n=== Centers for Disease Control ===\\nIn the United States, the Centers for Disease Control and Prevention (CDC) recommend investigating any person with:\\nFever and pneumonia or acute respiratory distress syndrome (based on clinical or radiological evidence) and either:\\na history of travel from countries in or near the Arabian Peninsula within 14 days before symptom onset, or\\nclose contact with a symptomatic traveler who developed fever and acute respiratory illness (not necessarily pneumonia) within 14 days after traveling from countries in or near the Arabian Peninsula or\\na member of a cluster of people with severe acute respiratory illness (e.g. fever and pneumonia requiring hospitalization) of unknown cause in which MERS-CoV is being evaluated, in consultation with state and local health departments.\\nFever and symptoms of respiratory illness (not necessarily pneumonia; e.g., cough, shortness of breath) and being in a healthcare facility (as a patient, worker, or visitor) within 14 days before symptom onset in a country or territory in or near the Arabian Peninsula in which recent healthcare-associated cases of MERS have been identified.\\nFever or symptoms of respiratory illness (not necessarily pneumonia; e.g., cough, shortness of breath) and close contact with a confirmed MERS case while the case was ill.\\n\\n\\n=== Medical imaging ===\\n\\nChest X-ray findings tend to show bilateral patchy infiltrates consistent with viral pneumonitis and acute respiratory distress syndrome (ARDS). Lower lobes tend to be more involved. CT scans show interstitial infiltrates.\\n\\n\\n=== Laboratory testing ===\\nMERS cases have been reported to have low white blood cell count, and in particular low lymphocytes. For PCR testing, the World Health Organization (WHO) recommends obtaining samples from the lower respiratory tract via bronchoalveolar lavage (BAL), sputum sample or tracheal aspirate as these have the highest viral loads. There have also been studies utilizing upper respiratory sampling via nasopharyngeal swab.Several highly sensitive, confirmatory real-time RT-PCR assays exist for rapid identification of MERS-CoV from patient-derived samples. These assays attempt to amplify upE (targets elements upstream of the E gene), open reading frame 1B (targets the ORF1b gene) and open reading frame 1A (targets the ORF1a gene). The WHO recommends the upE target for screening assays as it is highly sensitive. In addition, hemi-nested sequencing amplicons targeting RdRp (present in all coronaviruses) and nucleocapsid (N) gene (specific to MERS-CoV) fragments can be generated for confirmation via sequencing. Reports of potential polymorphisms in the N gene between isolates highlight the necessity for sequence-based characterization.The WHO recommended testing algorithm is to start with an upE RT-PCR and if positive confirm with ORF 1A assay or RdRp or N gene sequence assay for confirmation. If both an upE and secondary assay are positive it is considered a confirmed case.Protocols for biologically safe immunofluorescence assays (IFA) have also been developed; however, antibodies against betacoronaviruses are known to cross-react within the genus. This effectively limits their use to confirmatory applications. A more specific protein-microarray based assay has also been developed that did not show any cross-reactivity against population samples and serum known to be positive for other betacoronaviruses. Due to the limited validation done so far with serological assays, WHO guidance is that \"cases where the testing laboratory has reported positive serological test results in the absence of PCR testing or sequencing, are considered probable cases of MERS-CoV infection, if they meet the other conditions of that case definition.\"\\n\\n\\n== Prevention ==\\nWhile the mechanism of spread of MERS-CoV is currently not known, based on experience with prior coronaviruses, such as SARS, the WHO currently recommends that all individuals coming into contact with MERS suspects should (in addition to standard precautions):\\nWear a medical mask\\nWear eye protection (i.e. goggles or a face shield)\\nWear a clean, non sterile, long sleeved gown; and gloves (some procedures may require sterile gloves)\\nPerform hand hygiene before and after contact with the person and his or her surroundings and immediately after removal of personal protective equipment (PPE)For procedures which carry a risk of aerosolization, such as intubation, the WHO recommends that care providers also:\\nWear a particulate respirator and, when putting on a disposable particulate respirator, always check the seal\\nWear eye protection (i.e. goggles or a face shield)\\nWear a clean, non-sterile, long-sleeved gown and gloves (some of these procedures require sterile gloves)\\nWear an impermeable apron for some procedures with expected high fluid volumes that might penetrate the gown\\nPerform procedures in an adequately ventilated room; i.e. minimum of 6 to 12 air changes per hour in facilities with a mechanically ventilated room and at least 60 liters/second/patient in facilities with natural ventilation\\nLimit the number of persons present in the room to the absolute minimum required for the person\\'s care and support\\nPerform hand hygiene before and after contact with the person and his or her surroundings and after PPE removal.The duration of infectivity is also unknown so it is unclear how long people must be isolated, but current recommendations are for 24 hours after resolution of symptoms. In the SARS outbreak the virus was not cultured from people after the resolution of their symptoms.It is believed that the existing SARS research may provide a useful template for developing vaccines and therapeutics against a MERS-CoV infection. As of March 2020 there was one (DNA based) MERS vaccine which completed phase I clinical trials in humans, and three others in progress all of which are viral vectored vaccines, two adenoviral vectored (ChAdOx1-MERS, BVRS-GamVac) and one MVA vectored (MVA-MERS-S).\\n\\n\\n== Treatment ==\\nAs of 2020, there is no specific vaccine or treatment for the disease. Using extra-corporeal membrane oxygenation (ECMO) seems to improve outcomes significantly.Neither the combination of antivirals and interferons (ribavirin + interferon alfa-2a or interferon alfa-2b) nor corticosteroids improved outcomes.\\n\\n\\n== Epidemiology ==\\n\\nMERS has had a relatively low population-wide reproduction number in previous outbreaks, but such outbreaks have occurred due to superspreading events. Total laboratory-confirmed cases of MERS world-wide per year have been as follows:\\n\\n\\n=== Saudi Arabia ===\\n\\nMERS was also implicated in an outbreak in April 2014 in Saudi Arabia, where MERS has infected 688 people and 282 MERS-related deaths have been reported since 2012. In response to newly reported cases and deaths, and the resignation of four doctors at Jeddah\\'s King Fahd Hospital who refused to treat MERS patients for fear of infection, the government removed the Minister of Health and set up three MERS treatment centers. Eighteen more cases were reported in early May. In June 2014, Saudi Arabia announced 113 previously unreported cases of MERS, revising the death toll to 282.A hospital-related outbreak in Riyadh in the summer of 2015 increased fears of an epidemic occurring during the annual Hajj pilgrimage that was to begin in late September. After a period of few cases, cases began increasing in the middle of the summer. The CDC placed the travel health alert to level 2, which calls for taking enhanced precautions.In May 2019, 14 cases of MERS were reported to the World Health Organisation (WHO) by Saudi authorities, of which five were fatal. All those who died had comorbidities and other relatively serious health problems ranging from only diabetes mellitus in one person (aged 35) to complicated combinations of diabetes mellitus, hypertension and ischemic heart disease in two (65 and 80 years old) and diabetes mellitus, hypertension and nephropathy in another one who was 73 years old. Another patient who died and was 64 years old, had diabetes mellitus and hypertension. All those who died were males and three of them were reported to have had contact with, and exposure to, camels. Among the nine persons who survived were two females who were believed to have had contact with a person infected with MERS, one being a 23-year-old healthcare worker. Of the total 14 cases, four were females and 10 were males. All females survived. Reports of fatal cases were from Riyadh, Jeddah, Madinah and Najran. WHO did not recommend screening of travelers upon arrival or traveling restrictions.\\n\\n\\n=== United States ===\\nOn 2 May 2014, the Centers for Disease Control and Prevention (CDC) confirmed the first diagnosis of MERS in the United States at Community Hospital in Munster, Indiana. The man diagnosed was a health care worker who had been in Saudi Arabia a week earlier, and was reported to be in good condition. A second patient who also traveled from Saudi Arabia was reported in Orlando, Florida on 12 May 2014.\\n\\n\\n=== Netherlands ===\\nOn 14 May 2014, officials in the Netherlands reported the first case had appeared.\\n\\n\\n=== South Korea ===\\n\\nIn May 2015, the first case in South Korea was confirmed in a man who had visited Saudi Arabia, United Arab Emirates and Bahrain. Another man from South Korea, who was travelling to China, was diagnosed as the first case in China. So far, no Chinese citizen has been found infected.As of 27 June 2015, 19 people in South Korea have died from this outbreak, with 184 confirmed cases of infection. There have been at least 6508 quarantined.In 2018 a case was found in South Korea; the patient had recently returned from Kuwait (via Dubai).One study found that severe cases of illness had higher viral loads than milder cases, and that concentrations peaked in the second week of illness.\\n\\n\\n=== Philippines ===\\nIn April 2014, MERS emerged in the Philippines with a suspected case of a home-bound Overseas Filipino Worker (OFW). Several suspected cases involving individuals who were on the same flight as the initial suspected case are being tracked but are believed to have dispersed throughout the country. Another suspected MERS-involved death in Sultan Kudarat province caused the Department of Health (DOH) to put out an alert.\\nOn 6 July 2015 the DOH confirmed the second case of MERS in the Philippines. A 36-year-old male foreigner from the Middle East was tested positive.\\n\\n\\n=== United Kingdom ===\\nOn 27 July 2015, the accident and emergency department at Manchester Royal Infirmary closed after two patients were treated for suspected MERS infection. The facility was reopened later that evening, and it was later confirmed by Public Health England that the two patients had tested negative for the disease.\\n\\n\\n=== Kenya ===\\nIn January 2016, a larger outbreak of MERS among camels in Kenya was reported. By 5 February 2016 more than 500 camels had died of the disease. On 12 February 2016, the disease was reported to be MERS. No human cases were identified, although one study found antibodies in healthy humans in Kenya.\\n\\n\\n=== Comparisons ===\\nThe table above provides a comparison between the 2014 Saudi Arabia outbreak and the South Korean outbreak in 2015 of the Middle East Respiratory Syndrome Coronavirus (MERS-CoV) infection.\\n\\n\\n== History ==\\nCollaborative efforts were used in the identification of the MERS-CoV. Egyptian virologist Dr. Ali Mohamed Zaki isolated and identified a previously unknown coronavirus from the lungs of a 60-year-old Saudi Arabian man with pneumonia and acute kidney injury. After routine diagnostics failed to identify the causative agent, Zaki contacted Ron Fouchier, a leading virologist at the Erasmus Medical Center (EMC) in Rotterdam, the Netherlands, for advice. Fouchier sequenced the virus from a sample sent by Zaki.\\nFouchier used a broad-spectrum \"pan-coronavirus\" real-time reverse-transcription polymerase chain reaction (RT-qPCR) method to test for distinguishing features of a number of known coronaviruses (such as OC43, 229E, NL63, and SARS-CoV), as well as for RNA-dependent RNA polymerase (RdRp), a gene conserved in all coronaviruses known to infect humans. While the screens for known coronaviruses were all negative, the RdRp screen was positive.On 15 September 2012, Dr. Zaki\\'s findings were posted on ProMED-mail, the Program for Monitoring Emerging Diseases, a public health on-line forum.The United Kingdom\\'s Health Protection Agency (HPA) confirmed the diagnosis of severe respiratory illness associated with a new type of coronavirus in a second patient, a 49-year-old Qatari man who had recently been flown into the UK. He died from an acute, serious respiratory illness in a London hospital. In September 2012, the UK HPA named it the London1 novel CoV/2012 and produced the virus\\' preliminary phylogenetic tree, the genetic sequence of the virus based on the virus\\'s RNA obtained from the Qatari case.On 25 September 2012, the WHO announced that it was \"engaged in further characterizing the novel coronavirus\" and that it had \"immediately alerted all its Member States about the virus and has been leading the coordination and providing guidance to health authorities and technical health agencies\". The Erasmus Medical Center (EMC) in Rotterdam \"tested, sequenced and identified\" a sample provided to EMC virologist Ron Fouchier by Ali Mohamed Zaki in November 2012.On 8 November 2012, in an article published in the New England Journal of Medicine, Dr. Zaki and co-authors from the Erasmus Medical Center published more details, including a tentative name, Human Coronavirus-Erasmus Medical Center (HCoV-EMC), the virus\\'s genetic makeup, and closest relatives (including SARS).In May 2013, the Coronavirus Study Group of the International Committee on Taxonomy of Viruses adopted the official designation, the Middle East Respiratory Syndrome Coronavirus (MERS-CoV), which was adopted by WHO to \"provide uniformity and facilitate communication about the disease\". Prior to the designation, WHO had used the non-specific designation \\'Novel coronavirus 2012\\' or simply \\'the novel coronavirus\\'.\\n\\n\\n== Research ==\\nWhen rhesus macaques were given interferon-α2b and ribavirin and exposed to MERS, they developed less pneumonia than control animals. Five critically ill people with MERS in Saudi Arabia with acute respiratory distress syndrome (ARDS) and on ventilators were given interferon-α2b and ribavirin but all ended up dying of the disease. The treatment was started late in their disease (a mean of 19 days after hospital admission) and they had already failed trials of steroids so it remains to be seen whether it may have benefit earlier in the course of disease. Another proposed therapy is inhibition of viral protease or kinase enzymes.Researchers are investigating a number of medications, including using interferon, chloroquine, chlorpromazine, loperamide, lopinavir, remdesivir and galidesivir as well as other agents such as mycophenolic acid, camostat and nitazoxanide.\\n\\n\\n== References =='"
      ]
     },
     "execution_count": 45,
     "metadata": {},
     "output_type": "execute_result"
    }
   ],
   "source": [
    "s['train'][1]['context']"
   ]
  },
  {
   "cell_type": "code",
   "execution_count": 44,
   "id": "c4cc1e6d",
   "metadata": {},
   "outputs": [
    {
     "data": {
      "text/plain": [
       "['DNA',\n",
       " 'DNA–DNA hybridization',\n",
       " 'DNA²',\n",
       " 'Mitochondrial DNA',\n",
       " 'DNA methylation',\n",
       " 'A-DNA',\n",
       " 'Circular DNA',\n",
       " 'DNA profiling',\n",
       " 'DnaA',\n",
       " 'DNA replication']"
      ]
     },
     "execution_count": 44,
     "metadata": {},
     "output_type": "execute_result"
    }
   ],
   "source": [
    "wikipedia.search('DNA')"
   ]
  }
 ],
 "metadata": {
  "kernelspec": {
   "display_name": "Python 3 (ipykernel)",
   "language": "python",
   "name": "python3"
  },
  "language_info": {
   "codemirror_mode": {
    "name": "ipython",
    "version": 3
   },
   "file_extension": ".py",
   "mimetype": "text/x-python",
   "name": "python",
   "nbconvert_exporter": "python",
   "pygments_lexer": "ipython3",
   "version": "3.9.7"
  }
 },
 "nbformat": 4,
 "nbformat_minor": 5
}
