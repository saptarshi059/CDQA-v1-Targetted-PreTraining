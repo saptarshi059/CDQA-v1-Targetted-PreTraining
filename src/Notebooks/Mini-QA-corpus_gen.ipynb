{
 "cells": [
  {
   "cell_type": "code",
   "execution_count": 2,
   "id": "dff72e58",
   "metadata": {},
   "outputs": [],
   "source": [
    "import pandas as pd\n",
    "import pickle5 as pickle\n",
    "\n",
    "selected_stanza_ents = pd.read_csv('../../data/our-wikipedia-corpus/Tokens_From_Question_side/mini_corpus-10T5CpT.csv')\n",
    "stanza_ents_main = pd.read_pickle(open('../../data/stanza_ents-from_context.pkl','rb'))\n",
    "\n",
    "from transformers import AutoTokenizer\n",
    "tokenizer = AutoTokenizer.from_pretrained('distilbert-base-uncased')\n",
    "model_vocab = list(tokenizer.vocab.keys())"
   ]
  },
  {
   "cell_type": "code",
   "execution_count": null,
   "id": "1af10b4d",
   "metadata": {},
   "outputs": [],
   "source": [
    "from tqdm.auto import tqdm\n",
    "\n",
    "#Removing those entities that are also in the model vocab since we don't want 2 of the same token embedding.\n",
    "ent_in_model_vocab = []\n",
    "for ent in tqdm(stanza_ents_main):\n",
    "    if ent in model_vocab:\n",
    "        ent_in_model_vocab.append(ent)\n",
    "\n",
    "for ent in ent_in_model_vocab:\n",
    "    stanza_ents_main.remove(ent)\n",
    "\n",
    "#Removing all occurrences of the selected entities. This is where we want fresh new entities & contexts.\n",
    "for ent in list(set(selected_stanza_ents.ent.to_list())):\n",
    "    if ent in stanza_ents_main:\n",
    "        stanza_ents_main = list(filter((ent).__ne__, stanza_ents_main))"
   ]
  },
  {
   "cell_type": "code",
   "execution_count": null,
   "id": "eddda626",
   "metadata": {},
   "outputs": [],
   "source": [
    "from collections import Counter\n",
    "s = Counter(stanza_ents_main)\n",
    "sorted_ent_counts = dict(sorted(s.items(), key=lambda item: item[1], reverse=True))"
   ]
  },
  {
   "cell_type": "code",
   "execution_count": null,
   "id": "912f5ff6",
   "metadata": {},
   "outputs": [],
   "source": [
    "#Removing 1 length entities\n",
    "keys_to_remove = []\n",
    "for key in sorted_ent_counts.keys():\n",
    "    if len(key) == 1:\n",
    "        keys_to_remove.append(key)\n",
    "        \n",
    "for key in keys_to_remove:\n",
    "    sorted_ent_counts.pop(key)"
   ]
  },
  {
   "cell_type": "code",
   "execution_count": null,
   "id": "1f07cbc3",
   "metadata": {
    "code_folding": [
     0
    ]
   },
   "outputs": [],
   "source": [
    "#With only one context approach - most likely the one to use\n",
    "\n",
    "import wikipedia\n",
    "from collections import defaultdict\n",
    "\n",
    "no_of_ents_to_select = 100\n",
    "selected_ents_text_dict = defaultdict(list)\n",
    "\n",
    "for ent in tqdm(sorted_ent_counts.keys()):\n",
    "    if len(selected_ents_text_dict.keys()) == no_of_ents_to_select:\n",
    "        break\n",
    "\n",
    "    try:\n",
    "        search_result = wikipedia.search(str(ent), results=1)[0]\n",
    "    except:\n",
    "        continue\n",
    "\n",
    "    try:\n",
    "        wiki_query = wikipedia.page(search_result, auto_suggest=False)\n",
    "        selected_ents_text_dict[ent].append(wiki_query.summary)\n",
    "        selected_ents_text_dict[ent].append(wiki_query.content)\n",
    "    except:\n",
    "        continue\n",
    "        \n",
    "    if len(selected_ents_text_dict.keys()) % 100 == 0:\n",
    "        print(f'No. of entities selected so far: {len(selected_ents_text_dict.keys())}') "
   ]
  },
  {
   "cell_type": "code",
   "execution_count": 1,
   "id": "4a4f8862",
   "metadata": {},
   "outputs": [
    {
     "ename": "NameError",
     "evalue": "name 'tqdm' is not defined",
     "output_type": "error",
     "traceback": [
      "\u001b[0;31m---------------------------------------------------------------------------\u001b[0m",
      "\u001b[0;31mNameError\u001b[0m                                 Traceback (most recent call last)",
      "\u001b[0;32m/tmp/ipykernel_10528/451606817.py\u001b[0m in \u001b[0;36m<module>\u001b[0;34m\u001b[0m\n\u001b[1;32m      7\u001b[0m \u001b[0mselected_ents_text_dict\u001b[0m \u001b[0;34m=\u001b[0m \u001b[0mdefaultdict\u001b[0m\u001b[0;34m(\u001b[0m\u001b[0mlist\u001b[0m\u001b[0;34m)\u001b[0m\u001b[0;34m\u001b[0m\u001b[0;34m\u001b[0m\u001b[0m\n\u001b[1;32m      8\u001b[0m \u001b[0;34m\u001b[0m\u001b[0m\n\u001b[0;32m----> 9\u001b[0;31m \u001b[0;32mfor\u001b[0m \u001b[0ment\u001b[0m \u001b[0;32min\u001b[0m \u001b[0mtqdm\u001b[0m\u001b[0;34m(\u001b[0m\u001b[0msorted_ent_counts\u001b[0m\u001b[0;34m.\u001b[0m\u001b[0mkeys\u001b[0m\u001b[0;34m(\u001b[0m\u001b[0;34m)\u001b[0m\u001b[0;34m)\u001b[0m\u001b[0;34m:\u001b[0m\u001b[0;34m\u001b[0m\u001b[0;34m\u001b[0m\u001b[0m\n\u001b[0m\u001b[1;32m     10\u001b[0m     \u001b[0;32mif\u001b[0m \u001b[0mlen\u001b[0m\u001b[0;34m(\u001b[0m\u001b[0mselected_ents_text_dict\u001b[0m\u001b[0;34m)\u001b[0m \u001b[0;34m==\u001b[0m \u001b[0mno_of_ents_to_select\u001b[0m\u001b[0;34m:\u001b[0m\u001b[0;34m\u001b[0m\u001b[0;34m\u001b[0m\u001b[0m\n\u001b[1;32m     11\u001b[0m         \u001b[0;32mbreak\u001b[0m\u001b[0;34m\u001b[0m\u001b[0;34m\u001b[0m\u001b[0m\n",
      "\u001b[0;31mNameError\u001b[0m: name 'tqdm' is not defined"
     ]
    }
   ],
   "source": [
    "import wikipedia\n",
    "from collections import defaultdict\n",
    "\n",
    "no_of_ents_to_select = 1000\n",
    "no_of_results_per_entity = 1\n",
    "\n",
    "selected_ents_text_dict = defaultdict(list)\n",
    "\n",
    "for ent in tqdm(sorted_ent_counts.keys()):\n",
    "    if len(selected_ents_text_dict) == no_of_ents_to_select:\n",
    "        break\n",
    "    \n",
    "    search_results = wikipedia.search(str(ent), results=no_of_results_per_entity)\n",
    "    \n",
    "    no_of_ctx_available = 0\n",
    "    final_ctx = ''\n",
    "    \n",
    "    for res in search_results:\n",
    "        try:\n",
    "            final_ctx += wikipedia.page(res, auto_suggest=False).content\n",
    "            no_of_ctx_available += 1          \n",
    "        except:\n",
    "            continue\n",
    "    \n",
    "    if no_of_ctx_available == no_of_results_per_entity:\n",
    "        selected_ents_text_dict[ent].append(wikipedia.page(search_results[0], auto_suggest=False).summary)\n",
    "        selected_ents_text_dict[ent].append(final_ctx)\n",
    "        \n",
    "#print(f'Entities that were selected: {selected_ents_text_dict.keys()}')"
   ]
  },
  {
   "cell_type": "code",
   "execution_count": null,
   "id": "f5e5f702",
   "metadata": {},
   "outputs": [],
   "source": [
    "sample_id = []\n",
    "title = []\n",
    "context = []\n",
    "question = []\n",
    "answers = []\n",
    "\n",
    "for idx, (ent, page_data) in enumerate(selected_ents_text_dict.items()):\n",
    "    sample_id.append(str(idx))\n",
    "    title.append(ent)\n",
    "    context.append(page_data[1])\n",
    "    question.append(f'What is {ent}?')\n",
    "    answers.append({'text': [page_data[0]], 'answer_start': [page_data[1].find(page_data[0])]})\n",
    "    \n",
    "#Saving the dataframe as parquet since it was messing up formats.\n",
    "pd.DataFrame(zip(sample_id, title, context, question, answers), \n",
    "             columns = ['id', 'title', 'context', 'question'\n",
    "                       ,'answers']).to_parquet('mini-corpus-for-extended-QA')"
   ]
  },
  {
   "cell_type": "code",
   "execution_count": null,
   "id": "b8cad29b",
   "metadata": {},
   "outputs": [],
   "source": [
    "from datasets import load_dataset\n",
    "import os\n",
    "\n",
    "s = load_dataset('parquet', \n",
    "                 data_files=os.path.abspath('mini-corpus-for-extended-QA'))"
   ]
  },
  {
   "cell_type": "code",
   "execution_count": null,
   "id": "c57b9b4c",
   "metadata": {},
   "outputs": [],
   "source": [
    "load_dataset('squad', split='train').to_parquet('squad_parquet')"
   ]
  },
  {
   "cell_type": "code",
   "execution_count": null,
   "id": "f8bc1cdf",
   "metadata": {},
   "outputs": [],
   "source": [
    "d = load_dataset('parquet', data_files = 'ult')"
   ]
  }
 ],
 "metadata": {
  "kernelspec": {
   "display_name": "Python 3 (ipykernel)",
   "language": "python",
   "name": "python3"
  },
  "language_info": {
   "codemirror_mode": {
    "name": "ipython",
    "version": 3
   },
   "file_extension": ".py",
   "mimetype": "text/x-python",
   "name": "python",
   "nbconvert_exporter": "python",
   "pygments_lexer": "ipython3",
   "version": "3.9.7"
  }
 },
 "nbformat": 4,
 "nbformat_minor": 5
}
