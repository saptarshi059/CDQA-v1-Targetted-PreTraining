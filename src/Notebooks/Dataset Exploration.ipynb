{
 "cells": [
  {
   "cell_type": "code",
   "execution_count": 1,
   "id": "00d2bd03",
   "metadata": {},
   "outputs": [
    {
     "name": "stderr",
     "output_type": "stream",
     "text": [
      "Found cached dataset squad (/home/saptarshi/.cache/huggingface/datasets/squad/plain_text/1.0.0/d6ec3ceb99ca480ce37cdd35555d6cb2511d223b9150cce08a837ef62ffea453)\n"
     ]
    },
    {
     "data": {
      "application/vnd.jupyter.widget-view+json": {
       "model_id": "f9b519bd86f14563a66e4d52ebac6a85",
       "version_major": 2,
       "version_minor": 0
      },
      "text/plain": [
       "  0%|          | 0/2 [00:00<?, ?it/s]"
      ]
     },
     "metadata": {},
     "output_type": "display_data"
    },
    {
     "name": "stderr",
     "output_type": "stream",
     "text": [
      "Using custom data configuration default-af1524c54df01b38\n"
     ]
    },
    {
     "name": "stdout",
     "output_type": "stream",
     "text": [
      "Downloading and preparing dataset parquet/default to /home/saptarshi/.cache/huggingface/datasets/parquet/default-af1524c54df01b38/0.0.0/2a3b91fbd88a2c90d1dbbb32b460cf621d31bd5b05b934492fdef7d8d6f236ec...\n"
     ]
    },
    {
     "data": {
      "application/vnd.jupyter.widget-view+json": {
       "model_id": "5284da08697a494788e408132176acdc",
       "version_major": 2,
       "version_minor": 0
      },
      "text/plain": [
       "Downloading data files:   0%|          | 0/1 [00:00<?, ?it/s]"
      ]
     },
     "metadata": {},
     "output_type": "display_data"
    },
    {
     "data": {
      "application/vnd.jupyter.widget-view+json": {
       "model_id": "82a65e75b5634c70b764317dd3544577",
       "version_major": 2,
       "version_minor": 0
      },
      "text/plain": [
       "Extracting data files:   0%|          | 0/1 [00:00<?, ?it/s]"
      ]
     },
     "metadata": {},
     "output_type": "display_data"
    },
    {
     "data": {
      "application/vnd.jupyter.widget-view+json": {
       "model_id": "",
       "version_major": 2,
       "version_minor": 0
      },
      "text/plain": [
       "0 tables [00:00, ? tables/s]"
      ]
     },
     "metadata": {},
     "output_type": "display_data"
    },
    {
     "name": "stdout",
     "output_type": "stream",
     "text": [
      "Dataset parquet downloaded and prepared to /home/saptarshi/.cache/huggingface/datasets/parquet/default-af1524c54df01b38/0.0.0/2a3b91fbd88a2c90d1dbbb32b460cf621d31bd5b05b934492fdef7d8d6f236ec. Subsequent calls will reuse this data.\n"
     ]
    },
    {
     "data": {
      "application/vnd.jupyter.widget-view+json": {
       "model_id": "fb30ff112cb44649b0c678bc7111dcea",
       "version_major": 2,
       "version_minor": 0
      },
      "text/plain": [
       "  0%|          | 0/1 [00:00<?, ?it/s]"
      ]
     },
     "metadata": {},
     "output_type": "display_data"
    }
   ],
   "source": [
    "from datasets import load_dataset\n",
    "from transformers import AutoTokenizer\n",
    "\n",
    "squad = load_dataset('squad')\n",
    "galactica_corpus = load_dataset('parquet', data_files='agg_gens.parquet')\n",
    "\n",
    "bert_tokenizer = AutoTokenizer.from_pretrained('bert-base-uncased')\n",
    "roberta_tokenizer = AutoTokenizer.from_pretrained('roberta-base')"
   ]
  },
  {
   "cell_type": "code",
   "execution_count": 5,
   "id": "aeaf1325",
   "metadata": {},
   "outputs": [
    {
     "data": {
      "text/plain": [
       "(50265, 30522)"
      ]
     },
     "execution_count": 5,
     "metadata": {},
     "output_type": "execute_result"
    }
   ],
   "source": [
    "len(roberta_tokenizer.get_vocab().keys()), len(bert_tokenizer.get_vocab().keys())"
   ]
  },
  {
   "cell_type": "code",
   "execution_count": 59,
   "id": "87e02d7a",
   "metadata": {},
   "outputs": [],
   "source": [
    "all_ents = list(set(galactica_corpus['train']['entity']))"
   ]
  },
  {
   "cell_type": "code",
   "execution_count": 23,
   "id": "c9a4165f",
   "metadata": {},
   "outputs": [
    {
     "data": {
      "application/vnd.jupyter.widget-view+json": {
       "model_id": "329f6fbdffe64186b00e10e34b74ad84",
       "version_major": 2,
       "version_minor": 0
      },
      "text/plain": [
       "  0%|          | 0/10570 [00:00<?, ?it/s]"
      ]
     },
     "metadata": {},
     "output_type": "display_data"
    }
   ],
   "source": [
    "q_c = []\n",
    "from tqdm.auto import tqdm\n",
    "for row in tqdm(squad['validation']):\n",
    "    for ent in all_ents:\n",
    "        if (ent in row['question']) or (ent in row['context']):\n",
    "            q_c.append((row['question'], row['context'], ent))"
   ]
  },
  {
   "cell_type": "code",
   "execution_count": 52,
   "id": "68d145c1",
   "metadata": {},
   "outputs": [],
   "source": [
    "present_ents = []\n",
    "for tup in q_c:\n",
    "    present_ents.append(tup[2])\n",
    "present_ents = list(set(present_ents))"
   ]
  },
  {
   "cell_type": "code",
   "execution_count": null,
   "id": "2f31c0cc",
   "metadata": {},
   "outputs": [],
   "source": [
    "for row in q_c:\n",
    "    if row[2] in present_ents and len(row[2]):\n",
    "        print(row)"
   ]
  },
  {
   "cell_type": "code",
   "execution_count": 62,
   "id": "1dc10cb6",
   "metadata": {},
   "outputs": [
    {
     "data": {
      "text/plain": [
       "True"
      ]
     },
     "execution_count": 62,
     "metadata": {},
     "output_type": "execute_result"
    }
   ],
   "source": [
    "'N' in roberta_tokenizer.get_vocab().keys()"
   ]
  },
  {
   "cell_type": "code",
   "execution_count": 64,
   "id": "cdef359e",
   "metadata": {},
   "outputs": [
    {
     "data": {
      "text/plain": [
       "DatasetDict({\n",
       "    train: Dataset({\n",
       "        features: ['entity', 'prompt', 'context', '__index_level_0__'],\n",
       "        num_rows: 47900\n",
       "    })\n",
       "})"
      ]
     },
     "execution_count": 64,
     "metadata": {},
     "output_type": "execute_result"
    }
   ],
   "source": [
    "galactica_corpus"
   ]
  }
 ],
 "metadata": {
  "kernelspec": {
   "display_name": "Python 3 (ipykernel)",
   "language": "python",
   "name": "python3"
  },
  "language_info": {
   "codemirror_mode": {
    "name": "ipython",
    "version": 3
   },
   "file_extension": ".py",
   "mimetype": "text/x-python",
   "name": "python",
   "nbconvert_exporter": "python",
   "pygments_lexer": "ipython3",
   "version": "3.9.7"
  }
 },
 "nbformat": 4,
 "nbformat_minor": 5
}
